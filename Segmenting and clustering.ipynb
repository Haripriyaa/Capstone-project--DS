{
    "cells": [
        {
            "cell_type": "markdown",
            "metadata": {
                "collapsed": true
            },
            "source": "## **Importing libraries**"
        },
        {
            "cell_type": "code",
            "execution_count": 7,
            "metadata": {},
            "outputs": [],
            "source": "import pandas as pd\nimport requests\nfrom bs4 import BeautifulSoup\n\nres = requests.get(\"https://en.wikipedia.org/wiki/List_of_postal_codes_of_Canada:_M\")\nsoup = BeautifulSoup(res.content,'html')\ntable = soup.find_all('table')[0] \ndf_can = pd.read_html(str(table))[0]"
        },
        {
            "cell_type": "markdown",
            "metadata": {},
            "source": "## **Printing top 5**"
        },
        {
            "cell_type": "code",
            "execution_count": 8,
            "metadata": {},
            "outputs": [
                {
                    "data": {
                        "text/html": "<div>\n<style scoped>\n    .dataframe tbody tr th:only-of-type {\n        vertical-align: middle;\n    }\n\n    .dataframe tbody tr th {\n        vertical-align: top;\n    }\n\n    .dataframe thead th {\n        text-align: right;\n    }\n</style>\n<table border=\"1\" class=\"dataframe\">\n  <thead>\n    <tr style=\"text-align: right;\">\n      <th></th>\n      <th>Postal Code</th>\n      <th>Borough</th>\n      <th>Neighborhood</th>\n    </tr>\n  </thead>\n  <tbody>\n    <tr>\n      <th>0</th>\n      <td>M1A</td>\n      <td>Not assigned</td>\n      <td>Not assigned</td>\n    </tr>\n    <tr>\n      <th>1</th>\n      <td>M2A</td>\n      <td>Not assigned</td>\n      <td>Not assigned</td>\n    </tr>\n    <tr>\n      <th>2</th>\n      <td>M3A</td>\n      <td>North York</td>\n      <td>Parkwoods</td>\n    </tr>\n    <tr>\n      <th>3</th>\n      <td>M4A</td>\n      <td>North York</td>\n      <td>Victoria Village</td>\n    </tr>\n    <tr>\n      <th>4</th>\n      <td>M5A</td>\n      <td>Downtown Toronto</td>\n      <td>Regent Park, Harbourfront</td>\n    </tr>\n  </tbody>\n</table>\n</div>",
                        "text/plain": "  Postal Code           Borough               Neighborhood\n0         M1A      Not assigned               Not assigned\n1         M2A      Not assigned               Not assigned\n2         M3A        North York                  Parkwoods\n3         M4A        North York           Victoria Village\n4         M5A  Downtown Toronto  Regent Park, Harbourfront"
                    },
                    "execution_count": 8,
                    "metadata": {},
                    "output_type": "execute_result"
                }
            ],
            "source": "df_can.head()"
        },
        {
            "cell_type": "markdown",
            "metadata": {},
            "source": "## **Checking for any null values**"
        },
        {
            "cell_type": "code",
            "execution_count": 9,
            "metadata": {},
            "outputs": [
                {
                    "name": "stdout",
                    "output_type": "stream",
                    "text": "Postal Code\nFalse    180\nName: Postal Code, dtype: int64\n\nBorough\nFalse    180\nName: Borough, dtype: int64\n\nNeighborhood\nFalse    180\nName: Neighborhood, dtype: int64\n\n"
                }
            ],
            "source": "df_nv = df_can.isnull()\nfor column in df_nv.columns.values.tolist():\n    print (column)\n    print (df_nv[column].value_counts())\n    print(\"\")"
        },
        {
            "cell_type": "markdown",
            "metadata": {},
            "source": "## **Values \"not assigned\" in Borough dropped**"
        },
        {
            "cell_type": "code",
            "execution_count": 10,
            "metadata": {},
            "outputs": [],
            "source": "df = df_can[df_can['Borough']==\"Not assigned\"].index\ndf_can.drop(df,inplace = True)\ndf_can.reset_index(drop=True,inplace = True)"
        },
        {
            "cell_type": "code",
            "execution_count": 7,
            "metadata": {},
            "outputs": [
                {
                    "data": {
                        "text/html": "<div>\n<style scoped>\n    .dataframe tbody tr th:only-of-type {\n        vertical-align: middle;\n    }\n\n    .dataframe tbody tr th {\n        vertical-align: top;\n    }\n\n    .dataframe thead th {\n        text-align: right;\n    }\n</style>\n<table border=\"1\" class=\"dataframe\">\n  <thead>\n    <tr style=\"text-align: right;\">\n      <th></th>\n      <th>Postal Code</th>\n      <th>Borough</th>\n      <th>Neighborhood</th>\n    </tr>\n  </thead>\n  <tbody>\n    <tr>\n      <th>0</th>\n      <td>M3A</td>\n      <td>North York</td>\n      <td>Parkwoods</td>\n    </tr>\n    <tr>\n      <th>1</th>\n      <td>M4A</td>\n      <td>North York</td>\n      <td>Victoria Village</td>\n    </tr>\n    <tr>\n      <th>2</th>\n      <td>M5A</td>\n      <td>Downtown Toronto</td>\n      <td>Regent Park, Harbourfront</td>\n    </tr>\n    <tr>\n      <th>3</th>\n      <td>M6A</td>\n      <td>North York</td>\n      <td>Lawrence Manor, Lawrence Heights</td>\n    </tr>\n    <tr>\n      <th>4</th>\n      <td>M7A</td>\n      <td>Downtown Toronto</td>\n      <td>Queen's Park, Ontario Provincial Government</td>\n    </tr>\n    <tr>\n      <th>5</th>\n      <td>M9A</td>\n      <td>Etobicoke</td>\n      <td>Islington Avenue, Humber Valley Village</td>\n    </tr>\n    <tr>\n      <th>6</th>\n      <td>M1B</td>\n      <td>Scarborough</td>\n      <td>Malvern, Rouge</td>\n    </tr>\n    <tr>\n      <th>7</th>\n      <td>M3B</td>\n      <td>North York</td>\n      <td>Don Mills</td>\n    </tr>\n    <tr>\n      <th>8</th>\n      <td>M4B</td>\n      <td>East York</td>\n      <td>Parkview Hill, Woodbine Gardens</td>\n    </tr>\n    <tr>\n      <th>9</th>\n      <td>M5B</td>\n      <td>Downtown Toronto</td>\n      <td>Garden District, Ryerson</td>\n    </tr>\n    <tr>\n      <th>10</th>\n      <td>M6B</td>\n      <td>North York</td>\n      <td>Glencairn</td>\n    </tr>\n    <tr>\n      <th>11</th>\n      <td>M9B</td>\n      <td>Etobicoke</td>\n      <td>West Deane Park, Princess Gardens, Martin Grov...</td>\n    </tr>\n    <tr>\n      <th>12</th>\n      <td>M1C</td>\n      <td>Scarborough</td>\n      <td>Rouge Hill, Port Union, Highland Creek</td>\n    </tr>\n    <tr>\n      <th>13</th>\n      <td>M3C</td>\n      <td>North York</td>\n      <td>Don Mills</td>\n    </tr>\n    <tr>\n      <th>14</th>\n      <td>M4C</td>\n      <td>East York</td>\n      <td>Woodbine Heights</td>\n    </tr>\n    <tr>\n      <th>15</th>\n      <td>M5C</td>\n      <td>Downtown Toronto</td>\n      <td>St. James Town</td>\n    </tr>\n    <tr>\n      <th>16</th>\n      <td>M6C</td>\n      <td>York</td>\n      <td>Humewood-Cedarvale</td>\n    </tr>\n    <tr>\n      <th>17</th>\n      <td>M9C</td>\n      <td>Etobicoke</td>\n      <td>Eringate, Bloordale Gardens, Old Burnhamthorpe...</td>\n    </tr>\n    <tr>\n      <th>18</th>\n      <td>M1E</td>\n      <td>Scarborough</td>\n      <td>Guildwood, Morningside, West Hill</td>\n    </tr>\n    <tr>\n      <th>19</th>\n      <td>M4E</td>\n      <td>East Toronto</td>\n      <td>The Beaches</td>\n    </tr>\n  </tbody>\n</table>\n</div>",
                        "text/plain": "   Postal Code           Borough  \\\n0          M3A        North York   \n1          M4A        North York   \n2          M5A  Downtown Toronto   \n3          M6A        North York   \n4          M7A  Downtown Toronto   \n5          M9A         Etobicoke   \n6          M1B       Scarborough   \n7          M3B        North York   \n8          M4B         East York   \n9          M5B  Downtown Toronto   \n10         M6B        North York   \n11         M9B         Etobicoke   \n12         M1C       Scarborough   \n13         M3C        North York   \n14         M4C         East York   \n15         M5C  Downtown Toronto   \n16         M6C              York   \n17         M9C         Etobicoke   \n18         M1E       Scarborough   \n19         M4E      East Toronto   \n\n                                         Neighborhood  \n0                                           Parkwoods  \n1                                    Victoria Village  \n2                           Regent Park, Harbourfront  \n3                    Lawrence Manor, Lawrence Heights  \n4         Queen's Park, Ontario Provincial Government  \n5             Islington Avenue, Humber Valley Village  \n6                                      Malvern, Rouge  \n7                                           Don Mills  \n8                     Parkview Hill, Woodbine Gardens  \n9                            Garden District, Ryerson  \n10                                          Glencairn  \n11  West Deane Park, Princess Gardens, Martin Grov...  \n12             Rouge Hill, Port Union, Highland Creek  \n13                                          Don Mills  \n14                                   Woodbine Heights  \n15                                     St. James Town  \n16                                 Humewood-Cedarvale  \n17  Eringate, Bloordale Gardens, Old Burnhamthorpe...  \n18                  Guildwood, Morningside, West Hill  \n19                                        The Beaches  "
                    },
                    "execution_count": 7,
                    "metadata": {},
                    "output_type": "execute_result"
                }
            ],
            "source": "df_can.head(20)"
        },
        {
            "cell_type": "markdown",
            "metadata": {},
            "source": "## **Checking if there is any value of \"Not assigned\" in Neighborhood**"
        },
        {
            "cell_type": "code",
            "execution_count": 11,
            "metadata": {},
            "outputs": [
                {
                    "data": {
                        "text/html": "<div>\n<style scoped>\n    .dataframe tbody tr th:only-of-type {\n        vertical-align: middle;\n    }\n\n    .dataframe tbody tr th {\n        vertical-align: top;\n    }\n\n    .dataframe thead th {\n        text-align: right;\n    }\n</style>\n<table border=\"1\" class=\"dataframe\">\n  <thead>\n    <tr style=\"text-align: right;\">\n      <th></th>\n      <th>Postal Code</th>\n      <th>Borough</th>\n      <th>Neighborhood</th>\n    </tr>\n  </thead>\n  <tbody>\n  </tbody>\n</table>\n</div>",
                        "text/plain": "Empty DataFrame\nColumns: [Postal Code, Borough, Neighborhood]\nIndex: []"
                    },
                    "execution_count": 11,
                    "metadata": {},
                    "output_type": "execute_result"
                }
            ],
            "source": "df_can.loc['Neighborhood':\"Not assigned\"]"
        },
        {
            "cell_type": "markdown",
            "metadata": {},
            "source": "## **Number of rows and columns**"
        },
        {
            "cell_type": "code",
            "execution_count": 12,
            "metadata": {},
            "outputs": [
                {
                    "data": {
                        "text/plain": "(103, 3)"
                    },
                    "execution_count": 12,
                    "metadata": {},
                    "output_type": "execute_result"
                }
            ],
            "source": "df_can.shape"
        },
        {
            "cell_type": "markdown",
            "metadata": {},
            "source": "## **Creating dataframe for latitudes and longitudes**"
        },
        {
            "cell_type": "code",
            "execution_count": 13,
            "metadata": {},
            "outputs": [
                {
                    "data": {
                        "text/html": "<div>\n<style scoped>\n    .dataframe tbody tr th:only-of-type {\n        vertical-align: middle;\n    }\n\n    .dataframe tbody tr th {\n        vertical-align: top;\n    }\n\n    .dataframe thead th {\n        text-align: right;\n    }\n</style>\n<table border=\"1\" class=\"dataframe\">\n  <thead>\n    <tr style=\"text-align: right;\">\n      <th></th>\n      <th>Postal Code</th>\n      <th>Latitude</th>\n      <th>Longitude</th>\n    </tr>\n  </thead>\n  <tbody>\n    <tr>\n      <th>0</th>\n      <td>M1B</td>\n      <td>43.806686</td>\n      <td>-79.194353</td>\n    </tr>\n    <tr>\n      <th>1</th>\n      <td>M1C</td>\n      <td>43.784535</td>\n      <td>-79.160497</td>\n    </tr>\n    <tr>\n      <th>2</th>\n      <td>M1E</td>\n      <td>43.763573</td>\n      <td>-79.188711</td>\n    </tr>\n    <tr>\n      <th>3</th>\n      <td>M1G</td>\n      <td>43.770992</td>\n      <td>-79.216917</td>\n    </tr>\n    <tr>\n      <th>4</th>\n      <td>M1H</td>\n      <td>43.773136</td>\n      <td>-79.239476</td>\n    </tr>\n  </tbody>\n</table>\n</div>",
                        "text/plain": "  Postal Code   Latitude  Longitude\n0         M1B  43.806686 -79.194353\n1         M1C  43.784535 -79.160497\n2         M1E  43.763573 -79.188711\n3         M1G  43.770992 -79.216917\n4         M1H  43.773136 -79.239476"
                    },
                    "execution_count": 13,
                    "metadata": {},
                    "output_type": "execute_result"
                }
            ],
            "source": "df_coor = pd.read_csv(\"https://cocl.us/Geospatial_data\")\ndf_coor.head()"
        },
        {
            "cell_type": "markdown",
            "metadata": {},
            "source": "## **Checking for NULL values**"
        },
        {
            "cell_type": "code",
            "execution_count": 14,
            "metadata": {},
            "outputs": [
                {
                    "name": "stdout",
                    "output_type": "stream",
                    "text": "Postal Code\nFalse    103\nName: Postal Code, dtype: int64\n\nLatitude\nFalse    103\nName: Latitude, dtype: int64\n\nLongitude\nFalse    103\nName: Longitude, dtype: int64\n\n"
                }
            ],
            "source": "df_NV = df_coor.isnull()\nfor column in df_NV.columns.values.tolist():\n    print (column)\n    print (df_NV[column].value_counts())\n    print(\"\")"
        },
        {
            "cell_type": "markdown",
            "metadata": {},
            "source": "## **Merging the two dataframe based on Postal Code**"
        },
        {
            "cell_type": "code",
            "execution_count": 15,
            "metadata": {},
            "outputs": [
                {
                    "data": {
                        "text/html": "<div>\n<style scoped>\n    .dataframe tbody tr th:only-of-type {\n        vertical-align: middle;\n    }\n\n    .dataframe tbody tr th {\n        vertical-align: top;\n    }\n\n    .dataframe thead th {\n        text-align: right;\n    }\n</style>\n<table border=\"1\" class=\"dataframe\">\n  <thead>\n    <tr style=\"text-align: right;\">\n      <th></th>\n      <th>Postal Code</th>\n      <th>Borough</th>\n      <th>Neighborhood</th>\n      <th>Latitude</th>\n      <th>Longitude</th>\n    </tr>\n  </thead>\n  <tbody>\n    <tr>\n      <th>0</th>\n      <td>M3A</td>\n      <td>North York</td>\n      <td>Parkwoods</td>\n      <td>43.753259</td>\n      <td>-79.329656</td>\n    </tr>\n    <tr>\n      <th>1</th>\n      <td>M4A</td>\n      <td>North York</td>\n      <td>Victoria Village</td>\n      <td>43.725882</td>\n      <td>-79.315572</td>\n    </tr>\n    <tr>\n      <th>2</th>\n      <td>M5A</td>\n      <td>Downtown Toronto</td>\n      <td>Regent Park, Harbourfront</td>\n      <td>43.654260</td>\n      <td>-79.360636</td>\n    </tr>\n    <tr>\n      <th>3</th>\n      <td>M6A</td>\n      <td>North York</td>\n      <td>Lawrence Manor, Lawrence Heights</td>\n      <td>43.718518</td>\n      <td>-79.464763</td>\n    </tr>\n    <tr>\n      <th>4</th>\n      <td>M7A</td>\n      <td>Downtown Toronto</td>\n      <td>Queen's Park, Ontario Provincial Government</td>\n      <td>43.662301</td>\n      <td>-79.389494</td>\n    </tr>\n    <tr>\n      <th>5</th>\n      <td>M9A</td>\n      <td>Etobicoke</td>\n      <td>Islington Avenue, Humber Valley Village</td>\n      <td>43.667856</td>\n      <td>-79.532242</td>\n    </tr>\n    <tr>\n      <th>6</th>\n      <td>M1B</td>\n      <td>Scarborough</td>\n      <td>Malvern, Rouge</td>\n      <td>43.806686</td>\n      <td>-79.194353</td>\n    </tr>\n    <tr>\n      <th>7</th>\n      <td>M3B</td>\n      <td>North York</td>\n      <td>Don Mills</td>\n      <td>43.745906</td>\n      <td>-79.352188</td>\n    </tr>\n    <tr>\n      <th>8</th>\n      <td>M4B</td>\n      <td>East York</td>\n      <td>Parkview Hill, Woodbine Gardens</td>\n      <td>43.706397</td>\n      <td>-79.309937</td>\n    </tr>\n    <tr>\n      <th>9</th>\n      <td>M5B</td>\n      <td>Downtown Toronto</td>\n      <td>Garden District, Ryerson</td>\n      <td>43.657162</td>\n      <td>-79.378937</td>\n    </tr>\n    <tr>\n      <th>10</th>\n      <td>M6B</td>\n      <td>North York</td>\n      <td>Glencairn</td>\n      <td>43.709577</td>\n      <td>-79.445073</td>\n    </tr>\n    <tr>\n      <th>11</th>\n      <td>M9B</td>\n      <td>Etobicoke</td>\n      <td>West Deane Park, Princess Gardens, Martin Grov...</td>\n      <td>43.650943</td>\n      <td>-79.554724</td>\n    </tr>\n    <tr>\n      <th>12</th>\n      <td>M1C</td>\n      <td>Scarborough</td>\n      <td>Rouge Hill, Port Union, Highland Creek</td>\n      <td>43.784535</td>\n      <td>-79.160497</td>\n    </tr>\n    <tr>\n      <th>13</th>\n      <td>M3C</td>\n      <td>North York</td>\n      <td>Don Mills</td>\n      <td>43.725900</td>\n      <td>-79.340923</td>\n    </tr>\n    <tr>\n      <th>14</th>\n      <td>M4C</td>\n      <td>East York</td>\n      <td>Woodbine Heights</td>\n      <td>43.695344</td>\n      <td>-79.318389</td>\n    </tr>\n    <tr>\n      <th>15</th>\n      <td>M5C</td>\n      <td>Downtown Toronto</td>\n      <td>St. James Town</td>\n      <td>43.651494</td>\n      <td>-79.375418</td>\n    </tr>\n    <tr>\n      <th>16</th>\n      <td>M6C</td>\n      <td>York</td>\n      <td>Humewood-Cedarvale</td>\n      <td>43.693781</td>\n      <td>-79.428191</td>\n    </tr>\n    <tr>\n      <th>17</th>\n      <td>M9C</td>\n      <td>Etobicoke</td>\n      <td>Eringate, Bloordale Gardens, Old Burnhamthorpe...</td>\n      <td>43.643515</td>\n      <td>-79.577201</td>\n    </tr>\n    <tr>\n      <th>18</th>\n      <td>M1E</td>\n      <td>Scarborough</td>\n      <td>Guildwood, Morningside, West Hill</td>\n      <td>43.763573</td>\n      <td>-79.188711</td>\n    </tr>\n    <tr>\n      <th>19</th>\n      <td>M4E</td>\n      <td>East Toronto</td>\n      <td>The Beaches</td>\n      <td>43.676357</td>\n      <td>-79.293031</td>\n    </tr>\n  </tbody>\n</table>\n</div>",
                        "text/plain": "   Postal Code           Borough  \\\n0          M3A        North York   \n1          M4A        North York   \n2          M5A  Downtown Toronto   \n3          M6A        North York   \n4          M7A  Downtown Toronto   \n5          M9A         Etobicoke   \n6          M1B       Scarborough   \n7          M3B        North York   \n8          M4B         East York   \n9          M5B  Downtown Toronto   \n10         M6B        North York   \n11         M9B         Etobicoke   \n12         M1C       Scarborough   \n13         M3C        North York   \n14         M4C         East York   \n15         M5C  Downtown Toronto   \n16         M6C              York   \n17         M9C         Etobicoke   \n18         M1E       Scarborough   \n19         M4E      East Toronto   \n\n                                         Neighborhood   Latitude  Longitude  \n0                                           Parkwoods  43.753259 -79.329656  \n1                                    Victoria Village  43.725882 -79.315572  \n2                           Regent Park, Harbourfront  43.654260 -79.360636  \n3                    Lawrence Manor, Lawrence Heights  43.718518 -79.464763  \n4         Queen's Park, Ontario Provincial Government  43.662301 -79.389494  \n5             Islington Avenue, Humber Valley Village  43.667856 -79.532242  \n6                                      Malvern, Rouge  43.806686 -79.194353  \n7                                           Don Mills  43.745906 -79.352188  \n8                     Parkview Hill, Woodbine Gardens  43.706397 -79.309937  \n9                            Garden District, Ryerson  43.657162 -79.378937  \n10                                          Glencairn  43.709577 -79.445073  \n11  West Deane Park, Princess Gardens, Martin Grov...  43.650943 -79.554724  \n12             Rouge Hill, Port Union, Highland Creek  43.784535 -79.160497  \n13                                          Don Mills  43.725900 -79.340923  \n14                                   Woodbine Heights  43.695344 -79.318389  \n15                                     St. James Town  43.651494 -79.375418  \n16                                 Humewood-Cedarvale  43.693781 -79.428191  \n17  Eringate, Bloordale Gardens, Old Burnhamthorpe...  43.643515 -79.577201  \n18                  Guildwood, Morningside, West Hill  43.763573 -79.188711  \n19                                        The Beaches  43.676357 -79.293031  "
                    },
                    "execution_count": 15,
                    "metadata": {},
                    "output_type": "execute_result"
                }
            ],
            "source": "df_can = pd.merge(df_can,df_coor,on = 'Postal Code',how='inner')\ndf_can.head(20)"
        },
        {
            "cell_type": "code",
            "execution_count": 3,
            "metadata": {},
            "outputs": [
                {
                    "name": "stdout",
                    "output_type": "stream",
                    "text": "Solving environment: done\n\n## Package Plan ##\n\n  environment location: /opt/conda/envs/Python36\n\n  added / updated specs: \n    - geopy\n\n\nThe following packages will be downloaded:\n\n    package                    |            build\n    ---------------------------|-----------------\n    geopy-2.0.0                |     pyh9f0ad1d_0          63 KB  conda-forge\n    openssl-1.1.1g             |       h516909a_0         2.1 MB  conda-forge\n    python_abi-3.6             |          1_cp36m           4 KB  conda-forge\n    certifi-2020.6.20          |   py36h9f0ad1d_0         151 KB  conda-forge\n    geographiclib-1.50         |             py_0          34 KB  conda-forge\n    ca-certificates-2020.6.20  |       hecda079_0         145 KB  conda-forge\n    ------------------------------------------------------------\n                                           Total:         2.5 MB\n\nThe following NEW packages will be INSTALLED:\n\n    geographiclib:   1.50-py_0          conda-forge\n    geopy:           2.0.0-pyh9f0ad1d_0 conda-forge\n    python_abi:      3.6-1_cp36m        conda-forge\n\nThe following packages will be UPDATED:\n\n    certifi:         2020.6.20-py36_0               --> 2020.6.20-py36h9f0ad1d_0 conda-forge\n    openssl:         1.1.1g-h7b6447c_0              --> 1.1.1g-h516909a_0        conda-forge\n\nThe following packages will be DOWNGRADED:\n\n    ca-certificates: 2020.6.24-0                    --> 2020.6.20-hecda079_0     conda-forge\n\n\nDownloading and Extracting Packages\ngeopy-2.0.0          | 63 KB     | ##################################### | 100% \nopenssl-1.1.1g       | 2.1 MB    | ##################################### | 100% \npython_abi-3.6       | 4 KB      | ##################################### | 100% \ncertifi-2020.6.20    | 151 KB    | ##################################### | 100% \ngeographiclib-1.50   | 34 KB     | ##################################### | 100% \nca-certificates-2020 | 145 KB    | ##################################### | 100% \nPreparing transaction: done\nVerifying transaction: done\nExecuting transaction: done\n"
                }
            ],
            "source": "!conda install -c conda-forge geopy --yes \nfrom geopy.geocoders import Nominatim "
        },
        {
            "cell_type": "code",
            "execution_count": 20,
            "metadata": {},
            "outputs": [
                {
                    "name": "stdout",
                    "output_type": "stream",
                    "text": "The geograpical coordinate of North York are 43.7543263, -79.44911696639593.\n"
                }
            ],
            "source": "address = 'North York'\n\ngeolocator = Nominatim(user_agent=\"to_explorer\")\nlocation = geolocator.geocode(address)\nlatitude = location.latitude\nlongitude = location.longitude\nprint('The geograpical coordinate of North York are {}, {}.'.format(latitude, longitude))"
        },
        {
            "cell_type": "code",
            "execution_count": 24,
            "metadata": {},
            "outputs": [
                {
                    "data": {
                        "text/html": "<div>\n<style scoped>\n    .dataframe tbody tr th:only-of-type {\n        vertical-align: middle;\n    }\n\n    .dataframe tbody tr th {\n        vertical-align: top;\n    }\n\n    .dataframe thead th {\n        text-align: right;\n    }\n</style>\n<table border=\"1\" class=\"dataframe\">\n  <thead>\n    <tr style=\"text-align: right;\">\n      <th></th>\n      <th>Postal Code</th>\n      <th>Borough</th>\n      <th>Neighborhood</th>\n      <th>Latitude</th>\n      <th>Longitude</th>\n    </tr>\n  </thead>\n  <tbody>\n    <tr>\n      <th>0</th>\n      <td>M3A</td>\n      <td>North York</td>\n      <td>Parkwoods</td>\n      <td>43.753259</td>\n      <td>-79.329656</td>\n    </tr>\n    <tr>\n      <th>1</th>\n      <td>M4A</td>\n      <td>North York</td>\n      <td>Victoria Village</td>\n      <td>43.725882</td>\n      <td>-79.315572</td>\n    </tr>\n    <tr>\n      <th>2</th>\n      <td>M6A</td>\n      <td>North York</td>\n      <td>Lawrence Manor, Lawrence Heights</td>\n      <td>43.718518</td>\n      <td>-79.464763</td>\n    </tr>\n    <tr>\n      <th>3</th>\n      <td>M3B</td>\n      <td>North York</td>\n      <td>Don Mills</td>\n      <td>43.745906</td>\n      <td>-79.352188</td>\n    </tr>\n    <tr>\n      <th>4</th>\n      <td>M6B</td>\n      <td>North York</td>\n      <td>Glencairn</td>\n      <td>43.709577</td>\n      <td>-79.445073</td>\n    </tr>\n  </tbody>\n</table>\n</div>",
                        "text/plain": "  Postal Code     Borough                      Neighborhood   Latitude  \\\n0         M3A  North York                         Parkwoods  43.753259   \n1         M4A  North York                  Victoria Village  43.725882   \n2         M6A  North York  Lawrence Manor, Lawrence Heights  43.718518   \n3         M3B  North York                         Don Mills  43.745906   \n4         M6B  North York                         Glencairn  43.709577   \n\n   Longitude  \n0 -79.329656  \n1 -79.315572  \n2 -79.464763  \n3 -79.352188  \n4 -79.445073  "
                    },
                    "execution_count": 24,
                    "metadata": {},
                    "output_type": "execute_result"
                }
            ],
            "source": "NY_data = df_can[df_can['Borough'] == 'North York'].reset_index(drop=True)\nNY_data.head()"
        },
        {
            "cell_type": "code",
            "execution_count": 22,
            "metadata": {},
            "outputs": [
                {
                    "name": "stdout",
                    "output_type": "stream",
                    "text": "Your credentails:\nCLIENT_ID: 1T2KE0DYW1LHHFUYNAVZV5EKTBX2GZBJZDV3YLIAOQL4V2K2\nCLIENT_SECRET:DE0YE2NSTQ2OCBZI3TIR4KCBCR3XYKOJLR03CC0ECXNXVHPE\n"
                }
            ],
            "source": "CLIENT_ID = '1T2KE0DYW1LHHFUYNAVZV5EKTBX2GZBJZDV3YLIAOQL4V2K2' # your Foursquare ID\nCLIENT_SECRET = 'DE0YE2NSTQ2OCBZI3TIR4KCBCR3XYKOJLR03CC0ECXNXVHPE' # your Foursquare Secret\nVERSION = '20180605' # Foursquare API version\n\nprint('Your credentails:')\nprint('CLIENT_ID: ' + CLIENT_ID)\nprint('CLIENT_SECRET:' + CLIENT_SECRET)"
        },
        {
            "cell_type": "code",
            "execution_count": 25,
            "metadata": {},
            "outputs": [
                {
                    "data": {
                        "text/plain": "'Parkwoods'"
                    },
                    "execution_count": 25,
                    "metadata": {},
                    "output_type": "execute_result"
                }
            ],
            "source": "NY_data.loc[0, 'Neighborhood']"
        },
        {
            "cell_type": "code",
            "execution_count": 26,
            "metadata": {},
            "outputs": [
                {
                    "name": "stdout",
                    "output_type": "stream",
                    "text": "Latitude and longitude values of Parkwoods are 43.7532586, -79.3296565.\n"
                }
            ],
            "source": "neighborhood_latitude = NY_data.loc[0, 'Latitude'] # neighborhood latitude value\nneighborhood_longitude = NY_data.loc[0, 'Longitude'] # neighborhood longitude value\n\nneighborhood_name = NY_data.loc[0, 'Neighborhood'] # neighborhood name\n\nprint('Latitude and longitude values of {} are {}, {}.'.format(neighborhood_name, \n                                                               neighborhood_latitude, \n                                                               neighborhood_longitude))"
        },
        {
            "cell_type": "code",
            "execution_count": 27,
            "metadata": {},
            "outputs": [
                {
                    "data": {
                        "text/plain": "'https://api.foursquare.com/v2/venues/explore?&client_id=1T2KE0DYW1LHHFUYNAVZV5EKTBX2GZBJZDV3YLIAOQL4V2K2&client_secret=DE0YE2NSTQ2OCBZI3TIR4KCBCR3XYKOJLR03CC0ECXNXVHPE&v=20180605&ll=43.7532586,-79.3296565&radius=500&limit=10'"
                    },
                    "execution_count": 27,
                    "metadata": {},
                    "output_type": "execute_result"
                }
            ],
            "source": "LIMIT = 10 # limit of number of venues returned by Foursquare API\n\nradius = 500 # define radius\nurl = 'https://api.foursquare.com/v2/venues/explore?&client_id={}&client_secret={}&v={}&ll={},{}&radius={}&limit={}'.format(\n    CLIENT_ID, \n    CLIENT_SECRET, \n    VERSION, \n    neighborhood_latitude, \n    neighborhood_longitude, \n    radius, \n    LIMIT)\nurl # display URL\n\n"
        },
        {
            "cell_type": "code",
            "execution_count": 28,
            "metadata": {},
            "outputs": [
                {
                    "data": {
                        "text/plain": "{'meta': {'code': 200, 'requestId': '5f1132989503fd4cb47ad0b9'},\n 'response': {'headerLocation': 'Parkwoods - Donalda',\n  'headerFullLocation': 'Parkwoods - Donalda, Toronto',\n  'headerLocationGranularity': 'neighborhood',\n  'totalResults': 4,\n  'suggestedBounds': {'ne': {'lat': 43.757758604500005,\n    'lng': -79.32343823984928},\n   'sw': {'lat': 43.7487585955, 'lng': -79.33587476015072}},\n  'groups': [{'type': 'Recommended Places',\n    'name': 'recommended',\n    'items': [{'reasons': {'count': 0,\n       'items': [{'summary': 'This spot is popular',\n         'type': 'general',\n         'reasonName': 'globalInteractionReason'}]},\n      'venue': {'id': '4e8d9dcdd5fbbbb6b3003c7b',\n       'name': 'Brookbanks Park',\n       'location': {'address': 'Toronto',\n        'lat': 43.751976046055574,\n        'lng': -79.33214044722958,\n        'labeledLatLngs': [{'label': 'display',\n          'lat': 43.751976046055574,\n          'lng': -79.33214044722958}],\n        'distance': 245,\n        'cc': 'CA',\n        'city': 'Toronto',\n        'state': 'ON',\n        'country': 'Canada',\n        'formattedAddress': ['Toronto', 'Toronto ON', 'Canada']},\n       'categories': [{'id': '4bf58dd8d48988d163941735',\n         'name': 'Park',\n         'pluralName': 'Parks',\n         'shortName': 'Park',\n         'icon': {'prefix': 'https://ss3.4sqi.net/img/categories_v2/parks_outdoors/park_',\n          'suffix': '.png'},\n         'primary': True}],\n       'photos': {'count': 0, 'groups': []}},\n      'referralId': 'e-0-4e8d9dcdd5fbbbb6b3003c7b-0'},\n     {'reasons': {'count': 0,\n       'items': [{'summary': 'This spot is popular',\n         'type': 'general',\n         'reasonName': 'globalInteractionReason'}]},\n      'venue': {'id': '4e42684718a8627fce453c01',\n       'name': 'TTC stop #8380',\n       'location': {'address': 'Underhill Dr',\n        'crossStreet': 'At Cassandra N',\n        'lat': 43.752672,\n        'lng': -79.326351,\n        'labeledLatLngs': [{'label': 'display',\n          'lat': 43.752672,\n          'lng': -79.326351}],\n        'distance': 273,\n        'cc': 'CA',\n        'city': 'Toronto',\n        'state': 'ON',\n        'country': 'Canada',\n        'formattedAddress': ['Underhill Dr (At Cassandra N)',\n         'Toronto ON',\n         'Canada']},\n       'categories': [{'id': '52f2ab2ebcbc57f1066b8b4f',\n         'name': 'Bus Stop',\n         'pluralName': 'Bus Stops',\n         'shortName': 'Bus Stop',\n         'icon': {'prefix': 'https://ss3.4sqi.net/img/categories_v2/travel/busstation_',\n          'suffix': '.png'},\n         'primary': True}],\n       'photos': {'count': 0, 'groups': []}},\n      'referralId': 'e-0-4e42684718a8627fce453c01-1'},\n     {'reasons': {'count': 0,\n       'items': [{'summary': 'This spot is popular',\n         'type': 'general',\n         'reasonName': 'globalInteractionReason'}]},\n      'venue': {'id': '4cb11e2075ebb60cd1c4caad',\n       'name': 'Variety Store',\n       'location': {'address': '29 Valley Woods Road',\n        'lat': 43.75197441585782,\n        'lng': -79.33311418516017,\n        'labeledLatLngs': [{'label': 'display',\n          'lat': 43.75197441585782,\n          'lng': -79.33311418516017}],\n        'distance': 312,\n        'cc': 'CA',\n        'city': 'Toronto',\n        'state': 'ON',\n        'country': 'Canada',\n        'formattedAddress': ['29 Valley Woods Road', 'Toronto ON', 'Canada']},\n       'categories': [{'id': '4bf58dd8d48988d1f9941735',\n         'name': 'Food & Drink Shop',\n         'pluralName': 'Food & Drink Shops',\n         'shortName': 'Food & Drink',\n         'icon': {'prefix': 'https://ss3.4sqi.net/img/categories_v2/shops/foodanddrink_',\n          'suffix': '.png'},\n         'primary': True}],\n       'photos': {'count': 0, 'groups': []}},\n      'referralId': 'e-0-4cb11e2075ebb60cd1c4caad-2'},\n     {'reasons': {'count': 0,\n       'items': [{'summary': 'This spot is popular',\n         'type': 'general',\n         'reasonName': 'globalInteractionReason'}]},\n      'venue': {'id': '53622a89498ed84d6853265e',\n       'name': 'TTC stop - 44 Valley Woods',\n       'location': {'address': '44 Valley Woods Rd',\n        'lat': 43.75540238129278,\n        'lng': -79.33374133300899,\n        'labeledLatLngs': [{'label': 'display',\n          'lat': 43.75540238129278,\n          'lng': -79.33374133300899}],\n        'distance': 405,\n        'cc': 'CA',\n        'city': 'Toronto',\n        'state': 'ON',\n        'country': 'Canada',\n        'formattedAddress': ['44 Valley Woods Rd', 'Toronto ON', 'Canada']},\n       'categories': [{'id': '52f2ab2ebcbc57f1066b8b4f',\n         'name': 'Bus Stop',\n         'pluralName': 'Bus Stops',\n         'shortName': 'Bus Stop',\n         'icon': {'prefix': 'https://ss3.4sqi.net/img/categories_v2/travel/busstation_',\n          'suffix': '.png'},\n         'primary': True}],\n       'photos': {'count': 0, 'groups': []}},\n      'referralId': 'e-0-53622a89498ed84d6853265e-3'}]}]}}"
                    },
                    "execution_count": 28,
                    "metadata": {},
                    "output_type": "execute_result"
                }
            ],
            "source": "results = requests.get(url).json()\nresults"
        },
        {
            "cell_type": "code",
            "execution_count": 29,
            "metadata": {},
            "outputs": [],
            "source": "# function that extracts the category of the venue\ndef get_category_type(row):\n    try:\n        categories_list = row['categories']\n    except:\n        categories_list = row['venue.categories']\n        \n    if len(categories_list) == 0:\n        return None\n    else:\n        return categories_list[0]['name']"
        },
        {
            "cell_type": "code",
            "execution_count": 33,
            "metadata": {},
            "outputs": [],
            "source": "import json\nimport requests # library to handle requests\nfrom pandas.io.json import json_normalize"
        },
        {
            "cell_type": "code",
            "execution_count": 34,
            "metadata": {},
            "outputs": [
                {
                    "data": {
                        "text/html": "<div>\n<style scoped>\n    .dataframe tbody tr th:only-of-type {\n        vertical-align: middle;\n    }\n\n    .dataframe tbody tr th {\n        vertical-align: top;\n    }\n\n    .dataframe thead th {\n        text-align: right;\n    }\n</style>\n<table border=\"1\" class=\"dataframe\">\n  <thead>\n    <tr style=\"text-align: right;\">\n      <th></th>\n      <th>name</th>\n      <th>categories</th>\n      <th>lat</th>\n      <th>lng</th>\n    </tr>\n  </thead>\n  <tbody>\n    <tr>\n      <th>0</th>\n      <td>Brookbanks Park</td>\n      <td>Park</td>\n      <td>43.751976</td>\n      <td>-79.332140</td>\n    </tr>\n    <tr>\n      <th>1</th>\n      <td>TTC stop #8380</td>\n      <td>Bus Stop</td>\n      <td>43.752672</td>\n      <td>-79.326351</td>\n    </tr>\n    <tr>\n      <th>2</th>\n      <td>Variety Store</td>\n      <td>Food &amp; Drink Shop</td>\n      <td>43.751974</td>\n      <td>-79.333114</td>\n    </tr>\n    <tr>\n      <th>3</th>\n      <td>TTC stop - 44 Valley Woods</td>\n      <td>Bus Stop</td>\n      <td>43.755402</td>\n      <td>-79.333741</td>\n    </tr>\n  </tbody>\n</table>\n</div>",
                        "text/plain": "                         name         categories        lat        lng\n0             Brookbanks Park               Park  43.751976 -79.332140\n1              TTC stop #8380           Bus Stop  43.752672 -79.326351\n2               Variety Store  Food & Drink Shop  43.751974 -79.333114\n3  TTC stop - 44 Valley Woods           Bus Stop  43.755402 -79.333741"
                    },
                    "execution_count": 34,
                    "metadata": {},
                    "output_type": "execute_result"
                }
            ],
            "source": "venues = results['response']['groups'][0]['items']\n    \nnearby_venues = json_normalize(venues) # flatten JSON\n\n# filter columns\nfiltered_columns = ['venue.name', 'venue.categories', 'venue.location.lat', 'venue.location.lng']\nnearby_venues =nearby_venues.loc[:, filtered_columns]\n\n# filter the category for each row\nnearby_venues['venue.categories'] = nearby_venues.apply(get_category_type, axis=1)\n\n# clean columns\nnearby_venues.columns = [col.split(\".\")[-1] for col in nearby_venues.columns]\n\nnearby_venues.head()"
        },
        {
            "cell_type": "code",
            "execution_count": 35,
            "metadata": {},
            "outputs": [],
            "source": "def getNearbyVenues(names, latitudes, longitudes, radius=500):\n    \n    venues_list=[]\n    for name, lat, lng in zip(names, latitudes, longitudes):\n        print(name)\n            \n        # create the API request URL\n        url = 'https://api.foursquare.com/v2/venues/explore?&client_id={}&client_secret={}&v={}&ll={},{}&radius={}&limit={}'.format(\n            CLIENT_ID, \n            CLIENT_SECRET, \n            VERSION, \n            lat, \n            lng, \n            radius, \n            LIMIT)\n            \n        # make the GET request\n        results = requests.get(url).json()[\"response\"]['groups'][0]['items']\n        \n        # return only relevant information for each nearby venue\n        venues_list.append([(\n            name, \n            lat, \n            lng, \n            v['venue']['name'], \n            v['venue']['location']['lat'], \n            v['venue']['location']['lng'],  \n            v['venue']['categories'][0]['name']) for v in results])\n\n    nearby_venues = pd.DataFrame([item for venue_list in venues_list for item in venue_list])\n    nearby_venues.columns = ['Neighborhood', \n                  'Neighborhood Latitude', \n                  'Neighborhood Longitude', \n                  'Venue', \n                  'Venue Latitude', \n                  'Venue Longitude', \n                  'Venue Category']\n    \n    return(nearby_venues)"
        },
        {
            "cell_type": "code",
            "execution_count": 36,
            "metadata": {},
            "outputs": [
                {
                    "name": "stdout",
                    "output_type": "stream",
                    "text": "Parkwoods\nVictoria Village\nLawrence Manor, Lawrence Heights\nDon Mills\nGlencairn\nDon Mills\nHillcrest Village\nBathurst Manor, Wilson Heights, Downsview North\nFairview, Henry Farm, Oriole\nNorthwood Park, York University\nBayview Village\nDownsview\nYork Mills, Silver Hills\nDownsview\nNorth Park, Maple Leaf Park, Upwood Park\nHumber Summit\nWillowdale, Newtonbrook\nDownsview\nBedford Park, Lawrence Manor East\nHumberlea, Emery\nWillowdale, Willowdale East\nDownsview\nYork Mills West\nWillowdale, Willowdale West\n"
                }
            ],
            "source": "NorthYork_venues = getNearbyVenues(names=NY_data['Neighborhood'],\n                                   latitudes=NY_data['Latitude'],\n                                   longitudes=NY_data['Longitude']\n                                  )\n\n"
        },
        {
            "cell_type": "code",
            "execution_count": 39,
            "metadata": {},
            "outputs": [
                {
                    "data": {
                        "text/html": "<div>\n<style scoped>\n    .dataframe tbody tr th:only-of-type {\n        vertical-align: middle;\n    }\n\n    .dataframe tbody tr th {\n        vertical-align: top;\n    }\n\n    .dataframe thead th {\n        text-align: right;\n    }\n</style>\n<table border=\"1\" class=\"dataframe\">\n  <thead>\n    <tr style=\"text-align: right;\">\n      <th></th>\n      <th>Neighborhood Latitude</th>\n      <th>Neighborhood Longitude</th>\n      <th>Venue</th>\n      <th>Venue Latitude</th>\n      <th>Venue Longitude</th>\n      <th>Venue Category</th>\n    </tr>\n    <tr>\n      <th>Neighborhood</th>\n      <th></th>\n      <th></th>\n      <th></th>\n      <th></th>\n      <th></th>\n      <th></th>\n    </tr>\n  </thead>\n  <tbody>\n    <tr>\n      <th>Bathurst Manor, Wilson Heights, Downsview North</th>\n      <td>10</td>\n      <td>10</td>\n      <td>10</td>\n      <td>10</td>\n      <td>10</td>\n      <td>10</td>\n    </tr>\n    <tr>\n      <th>Bayview Village</th>\n      <td>4</td>\n      <td>4</td>\n      <td>4</td>\n      <td>4</td>\n      <td>4</td>\n      <td>4</td>\n    </tr>\n    <tr>\n      <th>Bedford Park, Lawrence Manor East</th>\n      <td>10</td>\n      <td>10</td>\n      <td>10</td>\n      <td>10</td>\n      <td>10</td>\n      <td>10</td>\n    </tr>\n    <tr>\n      <th>Don Mills</th>\n      <td>15</td>\n      <td>15</td>\n      <td>15</td>\n      <td>15</td>\n      <td>15</td>\n      <td>15</td>\n    </tr>\n    <tr>\n      <th>Downsview</th>\n      <td>17</td>\n      <td>17</td>\n      <td>17</td>\n      <td>17</td>\n      <td>17</td>\n      <td>17</td>\n    </tr>\n    <tr>\n      <th>Fairview, Henry Farm, Oriole</th>\n      <td>10</td>\n      <td>10</td>\n      <td>10</td>\n      <td>10</td>\n      <td>10</td>\n      <td>10</td>\n    </tr>\n    <tr>\n      <th>Glencairn</th>\n      <td>4</td>\n      <td>4</td>\n      <td>4</td>\n      <td>4</td>\n      <td>4</td>\n      <td>4</td>\n    </tr>\n    <tr>\n      <th>Hillcrest Village</th>\n      <td>4</td>\n      <td>4</td>\n      <td>4</td>\n      <td>4</td>\n      <td>4</td>\n      <td>4</td>\n    </tr>\n    <tr>\n      <th>Humber Summit</th>\n      <td>2</td>\n      <td>2</td>\n      <td>2</td>\n      <td>2</td>\n      <td>2</td>\n      <td>2</td>\n    </tr>\n    <tr>\n      <th>Humberlea, Emery</th>\n      <td>2</td>\n      <td>2</td>\n      <td>2</td>\n      <td>2</td>\n      <td>2</td>\n      <td>2</td>\n    </tr>\n    <tr>\n      <th>Lawrence Manor, Lawrence Heights</th>\n      <td>10</td>\n      <td>10</td>\n      <td>10</td>\n      <td>10</td>\n      <td>10</td>\n      <td>10</td>\n    </tr>\n    <tr>\n      <th>North Park, Maple Leaf Park, Upwood Park</th>\n      <td>5</td>\n      <td>5</td>\n      <td>5</td>\n      <td>5</td>\n      <td>5</td>\n      <td>5</td>\n    </tr>\n    <tr>\n      <th>Northwood Park, York University</th>\n      <td>7</td>\n      <td>7</td>\n      <td>7</td>\n      <td>7</td>\n      <td>7</td>\n      <td>7</td>\n    </tr>\n    <tr>\n      <th>Parkwoods</th>\n      <td>4</td>\n      <td>4</td>\n      <td>4</td>\n      <td>4</td>\n      <td>4</td>\n      <td>4</td>\n    </tr>\n    <tr>\n      <th>Victoria Village</th>\n      <td>4</td>\n      <td>4</td>\n      <td>4</td>\n      <td>4</td>\n      <td>4</td>\n      <td>4</td>\n    </tr>\n    <tr>\n      <th>Willowdale, Willowdale East</th>\n      <td>10</td>\n      <td>10</td>\n      <td>10</td>\n      <td>10</td>\n      <td>10</td>\n      <td>10</td>\n    </tr>\n    <tr>\n      <th>Willowdale, Willowdale West</th>\n      <td>7</td>\n      <td>7</td>\n      <td>7</td>\n      <td>7</td>\n      <td>7</td>\n      <td>7</td>\n    </tr>\n    <tr>\n      <th>York Mills West</th>\n      <td>3</td>\n      <td>3</td>\n      <td>3</td>\n      <td>3</td>\n      <td>3</td>\n      <td>3</td>\n    </tr>\n  </tbody>\n</table>\n</div>",
                        "text/plain": "                                                 Neighborhood Latitude  \\\nNeighborhood                                                             \nBathurst Manor, Wilson Heights, Downsview North                     10   \nBayview Village                                                      4   \nBedford Park, Lawrence Manor East                                   10   \nDon Mills                                                           15   \nDownsview                                                           17   \nFairview, Henry Farm, Oriole                                        10   \nGlencairn                                                            4   \nHillcrest Village                                                    4   \nHumber Summit                                                        2   \nHumberlea, Emery                                                     2   \nLawrence Manor, Lawrence Heights                                    10   \nNorth Park, Maple Leaf Park, Upwood Park                             5   \nNorthwood Park, York University                                      7   \nParkwoods                                                            4   \nVictoria Village                                                     4   \nWillowdale, Willowdale East                                         10   \nWillowdale, Willowdale West                                          7   \nYork Mills West                                                      3   \n\n                                                 Neighborhood Longitude  \\\nNeighborhood                                                              \nBathurst Manor, Wilson Heights, Downsview North                      10   \nBayview Village                                                       4   \nBedford Park, Lawrence Manor East                                    10   \nDon Mills                                                            15   \nDownsview                                                            17   \nFairview, Henry Farm, Oriole                                         10   \nGlencairn                                                             4   \nHillcrest Village                                                     4   \nHumber Summit                                                         2   \nHumberlea, Emery                                                      2   \nLawrence Manor, Lawrence Heights                                     10   \nNorth Park, Maple Leaf Park, Upwood Park                              5   \nNorthwood Park, York University                                       7   \nParkwoods                                                             4   \nVictoria Village                                                      4   \nWillowdale, Willowdale East                                          10   \nWillowdale, Willowdale West                                           7   \nYork Mills West                                                       3   \n\n                                                 Venue  Venue Latitude  \\\nNeighborhood                                                             \nBathurst Manor, Wilson Heights, Downsview North     10              10   \nBayview Village                                      4               4   \nBedford Park, Lawrence Manor East                   10              10   \nDon Mills                                           15              15   \nDownsview                                           17              17   \nFairview, Henry Farm, Oriole                        10              10   \nGlencairn                                            4               4   \nHillcrest Village                                    4               4   \nHumber Summit                                        2               2   \nHumberlea, Emery                                     2               2   \nLawrence Manor, Lawrence Heights                    10              10   \nNorth Park, Maple Leaf Park, Upwood Park             5               5   \nNorthwood Park, York University                      7               7   \nParkwoods                                            4               4   \nVictoria Village                                     4               4   \nWillowdale, Willowdale East                         10              10   \nWillowdale, Willowdale West                          7               7   \nYork Mills West                                      3               3   \n\n                                                 Venue Longitude  \\\nNeighborhood                                                       \nBathurst Manor, Wilson Heights, Downsview North               10   \nBayview Village                                                4   \nBedford Park, Lawrence Manor East                             10   \nDon Mills                                                     15   \nDownsview                                                     17   \nFairview, Henry Farm, Oriole                                  10   \nGlencairn                                                      4   \nHillcrest Village                                              4   \nHumber Summit                                                  2   \nHumberlea, Emery                                               2   \nLawrence Manor, Lawrence Heights                              10   \nNorth Park, Maple Leaf Park, Upwood Park                       5   \nNorthwood Park, York University                                7   \nParkwoods                                                      4   \nVictoria Village                                               4   \nWillowdale, Willowdale East                                   10   \nWillowdale, Willowdale West                                    7   \nYork Mills West                                                3   \n\n                                                 Venue Category  \nNeighborhood                                                     \nBathurst Manor, Wilson Heights, Downsview North              10  \nBayview Village                                               4  \nBedford Park, Lawrence Manor East                            10  \nDon Mills                                                    15  \nDownsview                                                    17  \nFairview, Henry Farm, Oriole                                 10  \nGlencairn                                                     4  \nHillcrest Village                                             4  \nHumber Summit                                                 2  \nHumberlea, Emery                                              2  \nLawrence Manor, Lawrence Heights                             10  \nNorth Park, Maple Leaf Park, Upwood Park                      5  \nNorthwood Park, York University                               7  \nParkwoods                                                     4  \nVictoria Village                                              4  \nWillowdale, Willowdale East                                  10  \nWillowdale, Willowdale West                                   7  \nYork Mills West                                               3  "
                    },
                    "execution_count": 39,
                    "metadata": {},
                    "output_type": "execute_result"
                }
            ],
            "source": "NorthYork_venues.groupby('Neighborhood').count()"
        },
        {
            "cell_type": "code",
            "execution_count": 40,
            "metadata": {},
            "outputs": [
                {
                    "data": {
                        "text/html": "<div>\n<style scoped>\n    .dataframe tbody tr th:only-of-type {\n        vertical-align: middle;\n    }\n\n    .dataframe tbody tr th {\n        vertical-align: top;\n    }\n\n    .dataframe thead th {\n        text-align: right;\n    }\n</style>\n<table border=\"1\" class=\"dataframe\">\n  <thead>\n    <tr style=\"text-align: right;\">\n      <th></th>\n      <th>Neighborhood</th>\n      <th>Accessories Store</th>\n      <th>Airport</th>\n      <th>American Restaurant</th>\n      <th>Asian Restaurant</th>\n      <th>Athletics &amp; Sports</th>\n      <th>Bakery</th>\n      <th>Bank</th>\n      <th>Bar</th>\n      <th>Baseball Field</th>\n      <th>...</th>\n      <th>Sandwich Place</th>\n      <th>Shopping Mall</th>\n      <th>Sporting Goods Shop</th>\n      <th>Steakhouse</th>\n      <th>Sushi Restaurant</th>\n      <th>Tea Room</th>\n      <th>Thai Restaurant</th>\n      <th>Toy / Game Store</th>\n      <th>Trail</th>\n      <th>Vietnamese Restaurant</th>\n    </tr>\n  </thead>\n  <tbody>\n    <tr>\n      <th>0</th>\n      <td>Parkwoods</td>\n      <td>0</td>\n      <td>0</td>\n      <td>0</td>\n      <td>0</td>\n      <td>0</td>\n      <td>0</td>\n      <td>0</td>\n      <td>0</td>\n      <td>0</td>\n      <td>...</td>\n      <td>0</td>\n      <td>0</td>\n      <td>0</td>\n      <td>0</td>\n      <td>0</td>\n      <td>0</td>\n      <td>0</td>\n      <td>0</td>\n      <td>0</td>\n      <td>0</td>\n    </tr>\n    <tr>\n      <th>1</th>\n      <td>Parkwoods</td>\n      <td>0</td>\n      <td>0</td>\n      <td>0</td>\n      <td>0</td>\n      <td>0</td>\n      <td>0</td>\n      <td>0</td>\n      <td>0</td>\n      <td>0</td>\n      <td>...</td>\n      <td>0</td>\n      <td>0</td>\n      <td>0</td>\n      <td>0</td>\n      <td>0</td>\n      <td>0</td>\n      <td>0</td>\n      <td>0</td>\n      <td>0</td>\n      <td>0</td>\n    </tr>\n    <tr>\n      <th>2</th>\n      <td>Parkwoods</td>\n      <td>0</td>\n      <td>0</td>\n      <td>0</td>\n      <td>0</td>\n      <td>0</td>\n      <td>0</td>\n      <td>0</td>\n      <td>0</td>\n      <td>0</td>\n      <td>...</td>\n      <td>0</td>\n      <td>0</td>\n      <td>0</td>\n      <td>0</td>\n      <td>0</td>\n      <td>0</td>\n      <td>0</td>\n      <td>0</td>\n      <td>0</td>\n      <td>0</td>\n    </tr>\n    <tr>\n      <th>3</th>\n      <td>Parkwoods</td>\n      <td>0</td>\n      <td>0</td>\n      <td>0</td>\n      <td>0</td>\n      <td>0</td>\n      <td>0</td>\n      <td>0</td>\n      <td>0</td>\n      <td>0</td>\n      <td>...</td>\n      <td>0</td>\n      <td>0</td>\n      <td>0</td>\n      <td>0</td>\n      <td>0</td>\n      <td>0</td>\n      <td>0</td>\n      <td>0</td>\n      <td>0</td>\n      <td>0</td>\n    </tr>\n    <tr>\n      <th>4</th>\n      <td>Victoria Village</td>\n      <td>0</td>\n      <td>0</td>\n      <td>0</td>\n      <td>0</td>\n      <td>0</td>\n      <td>0</td>\n      <td>0</td>\n      <td>0</td>\n      <td>0</td>\n      <td>...</td>\n      <td>0</td>\n      <td>0</td>\n      <td>0</td>\n      <td>0</td>\n      <td>0</td>\n      <td>0</td>\n      <td>0</td>\n      <td>0</td>\n      <td>0</td>\n      <td>0</td>\n    </tr>\n  </tbody>\n</table>\n<p>5 rows \u00d7 73 columns</p>\n</div>",
                        "text/plain": "       Neighborhood  Accessories Store  Airport  American Restaurant  \\\n0         Parkwoods                  0        0                    0   \n1         Parkwoods                  0        0                    0   \n2         Parkwoods                  0        0                    0   \n3         Parkwoods                  0        0                    0   \n4  Victoria Village                  0        0                    0   \n\n   Asian Restaurant  Athletics & Sports  Bakery  Bank  Bar  Baseball Field  \\\n0                 0                   0       0     0    0               0   \n1                 0                   0       0     0    0               0   \n2                 0                   0       0     0    0               0   \n3                 0                   0       0     0    0               0   \n4                 0                   0       0     0    0               0   \n\n   ...  Sandwich Place  Shopping Mall  Sporting Goods Shop  Steakhouse  \\\n0  ...               0              0                    0           0   \n1  ...               0              0                    0           0   \n2  ...               0              0                    0           0   \n3  ...               0              0                    0           0   \n4  ...               0              0                    0           0   \n\n   Sushi Restaurant  Tea Room  Thai Restaurant  Toy / Game Store  Trail  \\\n0                 0         0                0                 0      0   \n1                 0         0                0                 0      0   \n2                 0         0                0                 0      0   \n3                 0         0                0                 0      0   \n4                 0         0                0                 0      0   \n\n   Vietnamese Restaurant  \n0                      0  \n1                      0  \n2                      0  \n3                      0  \n4                      0  \n\n[5 rows x 73 columns]"
                    },
                    "execution_count": 40,
                    "metadata": {},
                    "output_type": "execute_result"
                }
            ],
            "source": "# one hot encoding\nNY_onehot = pd.get_dummies(NorthYork_venues[['Venue Category']], prefix=\"\", prefix_sep=\"\")\n\n# add neighborhood column back to dataframe\nNY_onehot['Neighborhood'] = NorthYork_venues['Neighborhood'] \n\n# move neighborhood column to the first column\nfixed_columns = [NY_onehot.columns[-1]] + list(NY_onehot.columns[:-1])\nNY_onehot = NY_onehot[fixed_columns]\n\nNY_onehot.head()"
        },
        {
            "cell_type": "code",
            "execution_count": 41,
            "metadata": {},
            "outputs": [
                {
                    "data": {
                        "text/html": "<div>\n<style scoped>\n    .dataframe tbody tr th:only-of-type {\n        vertical-align: middle;\n    }\n\n    .dataframe tbody tr th {\n        vertical-align: top;\n    }\n\n    .dataframe thead th {\n        text-align: right;\n    }\n</style>\n<table border=\"1\" class=\"dataframe\">\n  <thead>\n    <tr style=\"text-align: right;\">\n      <th></th>\n      <th>Neighborhood</th>\n      <th>Accessories Store</th>\n      <th>Airport</th>\n      <th>American Restaurant</th>\n      <th>Asian Restaurant</th>\n      <th>Athletics &amp; Sports</th>\n      <th>Bakery</th>\n      <th>Bank</th>\n      <th>Bar</th>\n      <th>Baseball Field</th>\n      <th>...</th>\n      <th>Sandwich Place</th>\n      <th>Shopping Mall</th>\n      <th>Sporting Goods Shop</th>\n      <th>Steakhouse</th>\n      <th>Sushi Restaurant</th>\n      <th>Tea Room</th>\n      <th>Thai Restaurant</th>\n      <th>Toy / Game Store</th>\n      <th>Trail</th>\n      <th>Vietnamese Restaurant</th>\n    </tr>\n  </thead>\n  <tbody>\n    <tr>\n      <th>0</th>\n      <td>Bathurst Manor, Wilson Heights, Downsview North</td>\n      <td>0.0</td>\n      <td>0.000000</td>\n      <td>0.0</td>\n      <td>0.00</td>\n      <td>0.000000</td>\n      <td>0.0</td>\n      <td>0.100000</td>\n      <td>0.000000</td>\n      <td>0.000000</td>\n      <td>...</td>\n      <td>0.1</td>\n      <td>0.000000</td>\n      <td>0.000000</td>\n      <td>0.0</td>\n      <td>0.1</td>\n      <td>0.0</td>\n      <td>0.0</td>\n      <td>0.0</td>\n      <td>0.0</td>\n      <td>0.000000</td>\n    </tr>\n    <tr>\n      <th>1</th>\n      <td>Bayview Village</td>\n      <td>0.0</td>\n      <td>0.000000</td>\n      <td>0.0</td>\n      <td>0.00</td>\n      <td>0.000000</td>\n      <td>0.0</td>\n      <td>0.250000</td>\n      <td>0.000000</td>\n      <td>0.000000</td>\n      <td>...</td>\n      <td>0.0</td>\n      <td>0.000000</td>\n      <td>0.000000</td>\n      <td>0.0</td>\n      <td>0.0</td>\n      <td>0.0</td>\n      <td>0.0</td>\n      <td>0.0</td>\n      <td>0.0</td>\n      <td>0.000000</td>\n    </tr>\n    <tr>\n      <th>2</th>\n      <td>Bedford Park, Lawrence Manor East</td>\n      <td>0.0</td>\n      <td>0.000000</td>\n      <td>0.0</td>\n      <td>0.00</td>\n      <td>0.000000</td>\n      <td>0.0</td>\n      <td>0.000000</td>\n      <td>0.000000</td>\n      <td>0.000000</td>\n      <td>...</td>\n      <td>0.0</td>\n      <td>0.000000</td>\n      <td>0.000000</td>\n      <td>0.0</td>\n      <td>0.1</td>\n      <td>0.0</td>\n      <td>0.1</td>\n      <td>0.0</td>\n      <td>0.0</td>\n      <td>0.000000</td>\n    </tr>\n    <tr>\n      <th>3</th>\n      <td>Don Mills</td>\n      <td>0.0</td>\n      <td>0.000000</td>\n      <td>0.0</td>\n      <td>0.00</td>\n      <td>0.000000</td>\n      <td>0.0</td>\n      <td>0.000000</td>\n      <td>0.000000</td>\n      <td>0.066667</td>\n      <td>...</td>\n      <td>0.0</td>\n      <td>0.000000</td>\n      <td>0.066667</td>\n      <td>0.0</td>\n      <td>0.0</td>\n      <td>0.0</td>\n      <td>0.0</td>\n      <td>0.0</td>\n      <td>0.0</td>\n      <td>0.000000</td>\n    </tr>\n    <tr>\n      <th>4</th>\n      <td>Downsview</td>\n      <td>0.0</td>\n      <td>0.058824</td>\n      <td>0.0</td>\n      <td>0.00</td>\n      <td>0.058824</td>\n      <td>0.0</td>\n      <td>0.058824</td>\n      <td>0.000000</td>\n      <td>0.058824</td>\n      <td>...</td>\n      <td>0.0</td>\n      <td>0.058824</td>\n      <td>0.000000</td>\n      <td>0.0</td>\n      <td>0.0</td>\n      <td>0.0</td>\n      <td>0.0</td>\n      <td>0.0</td>\n      <td>0.0</td>\n      <td>0.000000</td>\n    </tr>\n    <tr>\n      <th>5</th>\n      <td>Fairview, Henry Farm, Oriole</td>\n      <td>0.0</td>\n      <td>0.000000</td>\n      <td>0.1</td>\n      <td>0.00</td>\n      <td>0.000000</td>\n      <td>0.1</td>\n      <td>0.000000</td>\n      <td>0.000000</td>\n      <td>0.000000</td>\n      <td>...</td>\n      <td>0.0</td>\n      <td>0.100000</td>\n      <td>0.000000</td>\n      <td>0.0</td>\n      <td>0.0</td>\n      <td>0.1</td>\n      <td>0.0</td>\n      <td>0.1</td>\n      <td>0.0</td>\n      <td>0.000000</td>\n    </tr>\n    <tr>\n      <th>6</th>\n      <td>Glencairn</td>\n      <td>0.0</td>\n      <td>0.000000</td>\n      <td>0.0</td>\n      <td>0.25</td>\n      <td>0.000000</td>\n      <td>0.0</td>\n      <td>0.000000</td>\n      <td>0.000000</td>\n      <td>0.000000</td>\n      <td>...</td>\n      <td>0.0</td>\n      <td>0.000000</td>\n      <td>0.000000</td>\n      <td>0.0</td>\n      <td>0.0</td>\n      <td>0.0</td>\n      <td>0.0</td>\n      <td>0.0</td>\n      <td>0.0</td>\n      <td>0.000000</td>\n    </tr>\n    <tr>\n      <th>7</th>\n      <td>Hillcrest Village</td>\n      <td>0.0</td>\n      <td>0.000000</td>\n      <td>0.0</td>\n      <td>0.00</td>\n      <td>0.000000</td>\n      <td>0.0</td>\n      <td>0.000000</td>\n      <td>0.000000</td>\n      <td>0.000000</td>\n      <td>...</td>\n      <td>0.0</td>\n      <td>0.000000</td>\n      <td>0.000000</td>\n      <td>0.0</td>\n      <td>0.0</td>\n      <td>0.0</td>\n      <td>0.0</td>\n      <td>0.0</td>\n      <td>0.0</td>\n      <td>0.000000</td>\n    </tr>\n    <tr>\n      <th>8</th>\n      <td>Humber Summit</td>\n      <td>0.0</td>\n      <td>0.000000</td>\n      <td>0.0</td>\n      <td>0.00</td>\n      <td>0.000000</td>\n      <td>0.0</td>\n      <td>0.000000</td>\n      <td>0.000000</td>\n      <td>0.000000</td>\n      <td>...</td>\n      <td>0.0</td>\n      <td>0.000000</td>\n      <td>0.000000</td>\n      <td>0.0</td>\n      <td>0.0</td>\n      <td>0.0</td>\n      <td>0.0</td>\n      <td>0.0</td>\n      <td>0.0</td>\n      <td>0.000000</td>\n    </tr>\n    <tr>\n      <th>9</th>\n      <td>Humberlea, Emery</td>\n      <td>0.0</td>\n      <td>0.000000</td>\n      <td>0.0</td>\n      <td>0.00</td>\n      <td>0.000000</td>\n      <td>0.0</td>\n      <td>0.000000</td>\n      <td>0.000000</td>\n      <td>0.500000</td>\n      <td>...</td>\n      <td>0.0</td>\n      <td>0.000000</td>\n      <td>0.000000</td>\n      <td>0.0</td>\n      <td>0.0</td>\n      <td>0.0</td>\n      <td>0.0</td>\n      <td>0.0</td>\n      <td>0.0</td>\n      <td>0.000000</td>\n    </tr>\n    <tr>\n      <th>10</th>\n      <td>Lawrence Manor, Lawrence Heights</td>\n      <td>0.1</td>\n      <td>0.000000</td>\n      <td>0.0</td>\n      <td>0.00</td>\n      <td>0.000000</td>\n      <td>0.0</td>\n      <td>0.000000</td>\n      <td>0.000000</td>\n      <td>0.000000</td>\n      <td>...</td>\n      <td>0.0</td>\n      <td>0.000000</td>\n      <td>0.000000</td>\n      <td>0.0</td>\n      <td>0.0</td>\n      <td>0.0</td>\n      <td>0.0</td>\n      <td>0.0</td>\n      <td>0.0</td>\n      <td>0.100000</td>\n    </tr>\n    <tr>\n      <th>11</th>\n      <td>North Park, Maple Leaf Park, Upwood Park</td>\n      <td>0.0</td>\n      <td>0.000000</td>\n      <td>0.0</td>\n      <td>0.00</td>\n      <td>0.000000</td>\n      <td>0.2</td>\n      <td>0.000000</td>\n      <td>0.000000</td>\n      <td>0.000000</td>\n      <td>...</td>\n      <td>0.0</td>\n      <td>0.000000</td>\n      <td>0.000000</td>\n      <td>0.0</td>\n      <td>0.0</td>\n      <td>0.0</td>\n      <td>0.0</td>\n      <td>0.0</td>\n      <td>0.2</td>\n      <td>0.000000</td>\n    </tr>\n    <tr>\n      <th>12</th>\n      <td>Northwood Park, York University</td>\n      <td>0.0</td>\n      <td>0.000000</td>\n      <td>0.0</td>\n      <td>0.00</td>\n      <td>0.000000</td>\n      <td>0.0</td>\n      <td>0.000000</td>\n      <td>0.142857</td>\n      <td>0.000000</td>\n      <td>...</td>\n      <td>0.0</td>\n      <td>0.000000</td>\n      <td>0.000000</td>\n      <td>0.0</td>\n      <td>0.0</td>\n      <td>0.0</td>\n      <td>0.0</td>\n      <td>0.0</td>\n      <td>0.0</td>\n      <td>0.142857</td>\n    </tr>\n    <tr>\n      <th>13</th>\n      <td>Parkwoods</td>\n      <td>0.0</td>\n      <td>0.000000</td>\n      <td>0.0</td>\n      <td>0.00</td>\n      <td>0.000000</td>\n      <td>0.0</td>\n      <td>0.000000</td>\n      <td>0.000000</td>\n      <td>0.000000</td>\n      <td>...</td>\n      <td>0.0</td>\n      <td>0.000000</td>\n      <td>0.000000</td>\n      <td>0.0</td>\n      <td>0.0</td>\n      <td>0.0</td>\n      <td>0.0</td>\n      <td>0.0</td>\n      <td>0.0</td>\n      <td>0.000000</td>\n    </tr>\n    <tr>\n      <th>14</th>\n      <td>Victoria Village</td>\n      <td>0.0</td>\n      <td>0.000000</td>\n      <td>0.0</td>\n      <td>0.00</td>\n      <td>0.000000</td>\n      <td>0.0</td>\n      <td>0.000000</td>\n      <td>0.000000</td>\n      <td>0.000000</td>\n      <td>...</td>\n      <td>0.0</td>\n      <td>0.000000</td>\n      <td>0.000000</td>\n      <td>0.0</td>\n      <td>0.0</td>\n      <td>0.0</td>\n      <td>0.0</td>\n      <td>0.0</td>\n      <td>0.0</td>\n      <td>0.000000</td>\n    </tr>\n    <tr>\n      <th>15</th>\n      <td>Willowdale, Willowdale East</td>\n      <td>0.0</td>\n      <td>0.000000</td>\n      <td>0.0</td>\n      <td>0.00</td>\n      <td>0.000000</td>\n      <td>0.0</td>\n      <td>0.000000</td>\n      <td>0.000000</td>\n      <td>0.000000</td>\n      <td>...</td>\n      <td>0.0</td>\n      <td>0.000000</td>\n      <td>0.000000</td>\n      <td>0.1</td>\n      <td>0.0</td>\n      <td>0.0</td>\n      <td>0.0</td>\n      <td>0.0</td>\n      <td>0.0</td>\n      <td>0.000000</td>\n    </tr>\n    <tr>\n      <th>16</th>\n      <td>Willowdale, Willowdale West</td>\n      <td>0.0</td>\n      <td>0.000000</td>\n      <td>0.0</td>\n      <td>0.00</td>\n      <td>0.000000</td>\n      <td>0.0</td>\n      <td>0.142857</td>\n      <td>0.000000</td>\n      <td>0.000000</td>\n      <td>...</td>\n      <td>0.0</td>\n      <td>0.000000</td>\n      <td>0.000000</td>\n      <td>0.0</td>\n      <td>0.0</td>\n      <td>0.0</td>\n      <td>0.0</td>\n      <td>0.0</td>\n      <td>0.0</td>\n      <td>0.000000</td>\n    </tr>\n    <tr>\n      <th>17</th>\n      <td>York Mills West</td>\n      <td>0.0</td>\n      <td>0.000000</td>\n      <td>0.0</td>\n      <td>0.00</td>\n      <td>0.000000</td>\n      <td>0.0</td>\n      <td>0.000000</td>\n      <td>0.000000</td>\n      <td>0.000000</td>\n      <td>...</td>\n      <td>0.0</td>\n      <td>0.000000</td>\n      <td>0.000000</td>\n      <td>0.0</td>\n      <td>0.0</td>\n      <td>0.0</td>\n      <td>0.0</td>\n      <td>0.0</td>\n      <td>0.0</td>\n      <td>0.000000</td>\n    </tr>\n  </tbody>\n</table>\n<p>18 rows \u00d7 73 columns</p>\n</div>",
                        "text/plain": "                                       Neighborhood  Accessories Store  \\\n0   Bathurst Manor, Wilson Heights, Downsview North                0.0   \n1                                   Bayview Village                0.0   \n2                 Bedford Park, Lawrence Manor East                0.0   \n3                                         Don Mills                0.0   \n4                                         Downsview                0.0   \n5                      Fairview, Henry Farm, Oriole                0.0   \n6                                         Glencairn                0.0   \n7                                 Hillcrest Village                0.0   \n8                                     Humber Summit                0.0   \n9                                  Humberlea, Emery                0.0   \n10                 Lawrence Manor, Lawrence Heights                0.1   \n11         North Park, Maple Leaf Park, Upwood Park                0.0   \n12                  Northwood Park, York University                0.0   \n13                                        Parkwoods                0.0   \n14                                 Victoria Village                0.0   \n15                      Willowdale, Willowdale East                0.0   \n16                      Willowdale, Willowdale West                0.0   \n17                                  York Mills West                0.0   \n\n     Airport  American Restaurant  Asian Restaurant  Athletics & Sports  \\\n0   0.000000                  0.0              0.00            0.000000   \n1   0.000000                  0.0              0.00            0.000000   \n2   0.000000                  0.0              0.00            0.000000   \n3   0.000000                  0.0              0.00            0.000000   \n4   0.058824                  0.0              0.00            0.058824   \n5   0.000000                  0.1              0.00            0.000000   \n6   0.000000                  0.0              0.25            0.000000   \n7   0.000000                  0.0              0.00            0.000000   \n8   0.000000                  0.0              0.00            0.000000   \n9   0.000000                  0.0              0.00            0.000000   \n10  0.000000                  0.0              0.00            0.000000   \n11  0.000000                  0.0              0.00            0.000000   \n12  0.000000                  0.0              0.00            0.000000   \n13  0.000000                  0.0              0.00            0.000000   \n14  0.000000                  0.0              0.00            0.000000   \n15  0.000000                  0.0              0.00            0.000000   \n16  0.000000                  0.0              0.00            0.000000   \n17  0.000000                  0.0              0.00            0.000000   \n\n    Bakery      Bank       Bar  Baseball Field  ...  Sandwich Place  \\\n0      0.0  0.100000  0.000000        0.000000  ...             0.1   \n1      0.0  0.250000  0.000000        0.000000  ...             0.0   \n2      0.0  0.000000  0.000000        0.000000  ...             0.0   \n3      0.0  0.000000  0.000000        0.066667  ...             0.0   \n4      0.0  0.058824  0.000000        0.058824  ...             0.0   \n5      0.1  0.000000  0.000000        0.000000  ...             0.0   \n6      0.0  0.000000  0.000000        0.000000  ...             0.0   \n7      0.0  0.000000  0.000000        0.000000  ...             0.0   \n8      0.0  0.000000  0.000000        0.000000  ...             0.0   \n9      0.0  0.000000  0.000000        0.500000  ...             0.0   \n10     0.0  0.000000  0.000000        0.000000  ...             0.0   \n11     0.2  0.000000  0.000000        0.000000  ...             0.0   \n12     0.0  0.000000  0.142857        0.000000  ...             0.0   \n13     0.0  0.000000  0.000000        0.000000  ...             0.0   \n14     0.0  0.000000  0.000000        0.000000  ...             0.0   \n15     0.0  0.000000  0.000000        0.000000  ...             0.0   \n16     0.0  0.142857  0.000000        0.000000  ...             0.0   \n17     0.0  0.000000  0.000000        0.000000  ...             0.0   \n\n    Shopping Mall  Sporting Goods Shop  Steakhouse  Sushi Restaurant  \\\n0        0.000000             0.000000         0.0               0.1   \n1        0.000000             0.000000         0.0               0.0   \n2        0.000000             0.000000         0.0               0.1   \n3        0.000000             0.066667         0.0               0.0   \n4        0.058824             0.000000         0.0               0.0   \n5        0.100000             0.000000         0.0               0.0   \n6        0.000000             0.000000         0.0               0.0   \n7        0.000000             0.000000         0.0               0.0   \n8        0.000000             0.000000         0.0               0.0   \n9        0.000000             0.000000         0.0               0.0   \n10       0.000000             0.000000         0.0               0.0   \n11       0.000000             0.000000         0.0               0.0   \n12       0.000000             0.000000         0.0               0.0   \n13       0.000000             0.000000         0.0               0.0   \n14       0.000000             0.000000         0.0               0.0   \n15       0.000000             0.000000         0.1               0.0   \n16       0.000000             0.000000         0.0               0.0   \n17       0.000000             0.000000         0.0               0.0   \n\n    Tea Room  Thai Restaurant  Toy / Game Store  Trail  Vietnamese Restaurant  \n0        0.0              0.0               0.0    0.0               0.000000  \n1        0.0              0.0               0.0    0.0               0.000000  \n2        0.0              0.1               0.0    0.0               0.000000  \n3        0.0              0.0               0.0    0.0               0.000000  \n4        0.0              0.0               0.0    0.0               0.000000  \n5        0.1              0.0               0.1    0.0               0.000000  \n6        0.0              0.0               0.0    0.0               0.000000  \n7        0.0              0.0               0.0    0.0               0.000000  \n8        0.0              0.0               0.0    0.0               0.000000  \n9        0.0              0.0               0.0    0.0               0.000000  \n10       0.0              0.0               0.0    0.0               0.100000  \n11       0.0              0.0               0.0    0.2               0.000000  \n12       0.0              0.0               0.0    0.0               0.142857  \n13       0.0              0.0               0.0    0.0               0.000000  \n14       0.0              0.0               0.0    0.0               0.000000  \n15       0.0              0.0               0.0    0.0               0.000000  \n16       0.0              0.0               0.0    0.0               0.000000  \n17       0.0              0.0               0.0    0.0               0.000000  \n\n[18 rows x 73 columns]"
                    },
                    "execution_count": 41,
                    "metadata": {},
                    "output_type": "execute_result"
                }
            ],
            "source": "NY_grouped = NY_onehot.groupby('Neighborhood').mean().reset_index()\nNY_grouped"
        },
        {
            "cell_type": "code",
            "execution_count": 42,
            "metadata": {},
            "outputs": [],
            "source": "def return_most_common_venues(row, num_top_venues):\n    row_categories = row.iloc[1:]\n    row_categories_sorted = row_categories.sort_values(ascending=False)\n    \n    return row_categories_sorted.index.values[0:num_top_venues]"
        },
        {
            "cell_type": "code",
            "execution_count": 44,
            "metadata": {},
            "outputs": [],
            "source": "import numpy as np \nimport pandas as pd\nimport matplotlib.cm as cm\nimport matplotlib.colors as colors\nfrom sklearn.cluster import KMeans"
        },
        {
            "cell_type": "code",
            "execution_count": 46,
            "metadata": {},
            "outputs": [
                {
                    "data": {
                        "text/html": "<div>\n<style scoped>\n    .dataframe tbody tr th:only-of-type {\n        vertical-align: middle;\n    }\n\n    .dataframe tbody tr th {\n        vertical-align: top;\n    }\n\n    .dataframe thead th {\n        text-align: right;\n    }\n</style>\n<table border=\"1\" class=\"dataframe\">\n  <thead>\n    <tr style=\"text-align: right;\">\n      <th></th>\n      <th>Neighborhood</th>\n      <th>1st Most Common Venue</th>\n      <th>2nd Most Common Venue</th>\n      <th>3rd Most Common Venue</th>\n      <th>4th Most Common Venue</th>\n      <th>5th Most Common Venue</th>\n      <th>6th Most Common Venue</th>\n      <th>7th Most Common Venue</th>\n      <th>8th Most Common Venue</th>\n      <th>9th Most Common Venue</th>\n      <th>10th Most Common Venue</th>\n    </tr>\n  </thead>\n  <tbody>\n    <tr>\n      <th>0</th>\n      <td>Bathurst Manor, Wilson Heights, Downsview North</td>\n      <td>Coffee Shop</td>\n      <td>Middle Eastern Restaurant</td>\n      <td>Sushi Restaurant</td>\n      <td>Deli / Bodega</td>\n      <td>Bridal Shop</td>\n      <td>Bank</td>\n      <td>Sandwich Place</td>\n      <td>Restaurant</td>\n      <td>Ice Cream Shop</td>\n      <td>Vietnamese Restaurant</td>\n    </tr>\n    <tr>\n      <th>1</th>\n      <td>Bayview Village</td>\n      <td>Chinese Restaurant</td>\n      <td>Japanese Restaurant</td>\n      <td>Bank</td>\n      <td>Caf\u00e9</td>\n      <td>Vietnamese Restaurant</td>\n      <td>Construction &amp; Landscaping</td>\n      <td>Chocolate Shop</td>\n      <td>Clothing Store</td>\n      <td>Coffee Shop</td>\n      <td>Comfort Food Restaurant</td>\n    </tr>\n    <tr>\n      <th>2</th>\n      <td>Bedford Park, Lawrence Manor East</td>\n      <td>Restaurant</td>\n      <td>Comfort Food Restaurant</td>\n      <td>Juice Bar</td>\n      <td>Italian Restaurant</td>\n      <td>Indian Restaurant</td>\n      <td>Pub</td>\n      <td>Coffee Shop</td>\n      <td>Caf\u00e9</td>\n      <td>Sushi Restaurant</td>\n      <td>Thai Restaurant</td>\n    </tr>\n    <tr>\n      <th>3</th>\n      <td>Don Mills</td>\n      <td>Japanese Restaurant</td>\n      <td>Gym</td>\n      <td>Baseball Field</td>\n      <td>Restaurant</td>\n      <td>Italian Restaurant</td>\n      <td>Clothing Store</td>\n      <td>Coffee Shop</td>\n      <td>Bike Shop</td>\n      <td>Beer Store</td>\n      <td>Caribbean Restaurant</td>\n    </tr>\n    <tr>\n      <th>4</th>\n      <td>Downsview</td>\n      <td>Business Service</td>\n      <td>Grocery Store</td>\n      <td>Park</td>\n      <td>Baseball Field</td>\n      <td>Electronics Store</td>\n      <td>Discount Store</td>\n      <td>Gym / Fitness Center</td>\n      <td>Home Service</td>\n      <td>Hotel</td>\n      <td>Food Truck</td>\n    </tr>\n  </tbody>\n</table>\n</div>",
                        "text/plain": "                                      Neighborhood 1st Most Common Venue  \\\n0  Bathurst Manor, Wilson Heights, Downsview North           Coffee Shop   \n1                                  Bayview Village    Chinese Restaurant   \n2                Bedford Park, Lawrence Manor East            Restaurant   \n3                                        Don Mills   Japanese Restaurant   \n4                                        Downsview      Business Service   \n\n       2nd Most Common Venue 3rd Most Common Venue 4th Most Common Venue  \\\n0  Middle Eastern Restaurant      Sushi Restaurant         Deli / Bodega   \n1        Japanese Restaurant                  Bank                  Caf\u00e9   \n2    Comfort Food Restaurant             Juice Bar    Italian Restaurant   \n3                        Gym        Baseball Field            Restaurant   \n4              Grocery Store                  Park        Baseball Field   \n\n   5th Most Common Venue       6th Most Common Venue 7th Most Common Venue  \\\n0            Bridal Shop                        Bank        Sandwich Place   \n1  Vietnamese Restaurant  Construction & Landscaping        Chocolate Shop   \n2      Indian Restaurant                         Pub           Coffee Shop   \n3     Italian Restaurant              Clothing Store           Coffee Shop   \n4      Electronics Store              Discount Store  Gym / Fitness Center   \n\n  8th Most Common Venue 9th Most Common Venue   10th Most Common Venue  \n0            Restaurant        Ice Cream Shop    Vietnamese Restaurant  \n1        Clothing Store           Coffee Shop  Comfort Food Restaurant  \n2                  Caf\u00e9      Sushi Restaurant          Thai Restaurant  \n3             Bike Shop            Beer Store     Caribbean Restaurant  \n4          Home Service                 Hotel               Food Truck  "
                    },
                    "execution_count": 46,
                    "metadata": {},
                    "output_type": "execute_result"
                }
            ],
            "source": "num_top_venues = 10\n\nindicators = ['st', 'nd', 'rd']\n\n# create columns according to number of top venues\ncolumns = ['Neighborhood']\nfor ind in np.arange(num_top_venues):\n    try:\n        columns.append('{}{} Most Common Venue'.format(ind+1, indicators[ind]))\n    except:\n        columns.append('{}th Most Common Venue'.format(ind+1))\n\n# create a new dataframe\nneighborhoods_venues_sorted = pd.DataFrame(columns=columns)\nneighborhoods_venues_sorted['Neighborhood'] = NY_grouped['Neighborhood']\n\nfor ind in np.arange(NY_grouped.shape[0]):\n    neighborhoods_venues_sorted.iloc[ind, 1:] = return_most_common_venues(NY_grouped.iloc[ind, :], num_top_venues)\n\nneighborhoods_venues_sorted.head()"
        },
        {
            "cell_type": "code",
            "execution_count": 48,
            "metadata": {},
            "outputs": [
                {
                    "data": {
                        "text/plain": "array([0, 0, 0, 0, 0, 0, 0, 0, 4, 2], dtype=int32)"
                    },
                    "execution_count": 48,
                    "metadata": {},
                    "output_type": "execute_result"
                }
            ],
            "source": "# set number of clusters\nkclusters = 5\n\nNY_clustering = NY_grouped.drop('Neighborhood', 1)\n\n# run k-means clustering\nkmeans = KMeans(n_clusters=kclusters, random_state=0).fit(NY_clustering)\n\n# check cluster labels generated for each row in the dataframe\nkmeans.labels_[0:10] "
        },
        {
            "cell_type": "code",
            "execution_count": 56,
            "metadata": {},
            "outputs": [
                {
                    "name": "stdout",
                    "output_type": "stream",
                    "text": "Solving environment: \\ ^C\nfailed\n\nCondaError: KeyboardInterrupt\n\n"
                }
            ],
            "source": "!conda install -c conda-forge folium=0.5.0 --yes"
        },
        {
            "cell_type": "code",
            "execution_count": 51,
            "metadata": {},
            "outputs": [
                {
                    "ename": "NameError",
                    "evalue": "name 'folium' is not defined",
                    "output_type": "error",
                    "traceback": [
                        "\u001b[0;31m---------------------------------------------------------------------------\u001b[0m",
                        "\u001b[0;31mNameError\u001b[0m                                 Traceback (most recent call last)",
                        "\u001b[0;32m<ipython-input-51-841e12d4c7b4>\u001b[0m in \u001b[0;36m<module>\u001b[0;34m\u001b[0m\n\u001b[1;32m      1\u001b[0m \u001b[0;31m# create map\u001b[0m\u001b[0;34m\u001b[0m\u001b[0;34m\u001b[0m\u001b[0;34m\u001b[0m\u001b[0m\n\u001b[0;32m----> 2\u001b[0;31m \u001b[0mmap_clusters\u001b[0m \u001b[0;34m=\u001b[0m \u001b[0mfolium\u001b[0m\u001b[0;34m.\u001b[0m\u001b[0mMap\u001b[0m\u001b[0;34m(\u001b[0m\u001b[0mlocation\u001b[0m\u001b[0;34m=\u001b[0m\u001b[0;34m[\u001b[0m\u001b[0mlatitude\u001b[0m\u001b[0;34m,\u001b[0m \u001b[0mlongitude\u001b[0m\u001b[0;34m]\u001b[0m\u001b[0;34m,\u001b[0m \u001b[0mzoom_start\u001b[0m\u001b[0;34m=\u001b[0m\u001b[0;36m11\u001b[0m\u001b[0;34m)\u001b[0m\u001b[0;34m\u001b[0m\u001b[0;34m\u001b[0m\u001b[0m\n\u001b[0m\u001b[1;32m      3\u001b[0m \u001b[0;34m\u001b[0m\u001b[0m\n\u001b[1;32m      4\u001b[0m \u001b[0;31m# set color scheme for the clusters\u001b[0m\u001b[0;34m\u001b[0m\u001b[0;34m\u001b[0m\u001b[0;34m\u001b[0m\u001b[0m\n\u001b[1;32m      5\u001b[0m \u001b[0mx\u001b[0m \u001b[0;34m=\u001b[0m \u001b[0mnp\u001b[0m\u001b[0;34m.\u001b[0m\u001b[0marange\u001b[0m\u001b[0;34m(\u001b[0m\u001b[0mkclusters\u001b[0m\u001b[0;34m)\u001b[0m\u001b[0;34m\u001b[0m\u001b[0;34m\u001b[0m\u001b[0m\n",
                        "\u001b[0;31mNameError\u001b[0m: name 'folium' is not defined"
                    ]
                }
            ],
            "source": "# create map\nmap_clusters = folium.Map(location=[latitude, longitude], zoom_start=11)\n\n# set color scheme for the clusters\nx = np.arange(kclusters)\nys = [i + x + (i*x)**2 for i in range(kclusters)]\ncolors_array = cm.rainbow(np.linspace(0, 1, len(ys)))\nrainbow = [colors.rgb2hex(i) for i in colors_array]\n\n# add markers to the map\nmarkers_colors = []\nfor lat, lon, poi, cluster in zip(NY_merged['Latitude'], NY_merged['Longitude'], NY_merged['Neighborhood'], NY_merged['Cluster Labels']):\n    label = folium.Popup(str(poi) + ' Cluster ' + str(cluster), parse_html=True)\n    folium.CircleMarker(\n        [lat, lon],\n        radius=5,\n        popup=label,\n        color=rainbow[cluster-1],\n        fill=True,\n        fill_color=rainbow[cluster-1],\n        fill_opacity=0.7).add_to(map_clusters)\n       \nmap_clusters"
        },
        {
            "cell_type": "code",
            "execution_count": 57,
            "metadata": {},
            "outputs": [
                {
                    "data": {
                        "text/html": "<div>\n<style scoped>\n    .dataframe tbody tr th:only-of-type {\n        vertical-align: middle;\n    }\n\n    .dataframe tbody tr th {\n        vertical-align: top;\n    }\n\n    .dataframe thead th {\n        text-align: right;\n    }\n</style>\n<table border=\"1\" class=\"dataframe\">\n  <thead>\n    <tr style=\"text-align: right;\">\n      <th></th>\n      <th>Borough</th>\n      <th>Cluster Labels</th>\n      <th>1st Most Common Venue</th>\n      <th>2nd Most Common Venue</th>\n      <th>3rd Most Common Venue</th>\n      <th>4th Most Common Venue</th>\n      <th>5th Most Common Venue</th>\n      <th>6th Most Common Venue</th>\n      <th>7th Most Common Venue</th>\n      <th>8th Most Common Venue</th>\n      <th>9th Most Common Venue</th>\n      <th>10th Most Common Venue</th>\n    </tr>\n  </thead>\n  <tbody>\n    <tr>\n      <th>1</th>\n      <td>North York</td>\n      <td>0.0</td>\n      <td>Pizza Place</td>\n      <td>Hockey Arena</td>\n      <td>Portuguese Restaurant</td>\n      <td>Coffee Shop</td>\n      <td>Vietnamese Restaurant</td>\n      <td>Comfort Food Restaurant</td>\n      <td>Caribbean Restaurant</td>\n      <td>Chinese Restaurant</td>\n      <td>Chocolate Shop</td>\n      <td>Clothing Store</td>\n    </tr>\n    <tr>\n      <th>2</th>\n      <td>North York</td>\n      <td>0.0</td>\n      <td>Clothing Store</td>\n      <td>Vietnamese Restaurant</td>\n      <td>Furniture / Home Store</td>\n      <td>Boutique</td>\n      <td>Coffee Shop</td>\n      <td>Event Space</td>\n      <td>Accessories Store</td>\n      <td>Sporting Goods Shop</td>\n      <td>Sushi Restaurant</td>\n      <td>Dog Run</td>\n    </tr>\n    <tr>\n      <th>3</th>\n      <td>North York</td>\n      <td>0.0</td>\n      <td>Japanese Restaurant</td>\n      <td>Gym</td>\n      <td>Baseball Field</td>\n      <td>Restaurant</td>\n      <td>Italian Restaurant</td>\n      <td>Clothing Store</td>\n      <td>Coffee Shop</td>\n      <td>Bike Shop</td>\n      <td>Beer Store</td>\n      <td>Caribbean Restaurant</td>\n    </tr>\n    <tr>\n      <th>4</th>\n      <td>North York</td>\n      <td>0.0</td>\n      <td>Asian Restaurant</td>\n      <td>Pizza Place</td>\n      <td>Japanese Restaurant</td>\n      <td>Pub</td>\n      <td>Vietnamese Restaurant</td>\n      <td>Coffee Shop</td>\n      <td>Caribbean Restaurant</td>\n      <td>Chinese Restaurant</td>\n      <td>Chocolate Shop</td>\n      <td>Clothing Store</td>\n    </tr>\n    <tr>\n      <th>5</th>\n      <td>North York</td>\n      <td>0.0</td>\n      <td>Japanese Restaurant</td>\n      <td>Gym</td>\n      <td>Baseball Field</td>\n      <td>Restaurant</td>\n      <td>Italian Restaurant</td>\n      <td>Clothing Store</td>\n      <td>Coffee Shop</td>\n      <td>Bike Shop</td>\n      <td>Beer Store</td>\n      <td>Caribbean Restaurant</td>\n    </tr>\n    <tr>\n      <th>6</th>\n      <td>North York</td>\n      <td>0.0</td>\n      <td>Golf Course</td>\n      <td>Mediterranean Restaurant</td>\n      <td>Dog Run</td>\n      <td>Pool</td>\n      <td>Comfort Food Restaurant</td>\n      <td>Caribbean Restaurant</td>\n      <td>Chinese Restaurant</td>\n      <td>Chocolate Shop</td>\n      <td>Clothing Store</td>\n      <td>Coffee Shop</td>\n    </tr>\n    <tr>\n      <th>7</th>\n      <td>North York</td>\n      <td>0.0</td>\n      <td>Coffee Shop</td>\n      <td>Middle Eastern Restaurant</td>\n      <td>Sushi Restaurant</td>\n      <td>Deli / Bodega</td>\n      <td>Bridal Shop</td>\n      <td>Bank</td>\n      <td>Sandwich Place</td>\n      <td>Restaurant</td>\n      <td>Ice Cream Shop</td>\n      <td>Vietnamese Restaurant</td>\n    </tr>\n    <tr>\n      <th>8</th>\n      <td>North York</td>\n      <td>0.0</td>\n      <td>Toy / Game Store</td>\n      <td>Electronics Store</td>\n      <td>Tea Room</td>\n      <td>American Restaurant</td>\n      <td>Burger Joint</td>\n      <td>Shopping Mall</td>\n      <td>Bakery</td>\n      <td>Movie Theater</td>\n      <td>Chocolate Shop</td>\n      <td>Pharmacy</td>\n    </tr>\n    <tr>\n      <th>9</th>\n      <td>North York</td>\n      <td>0.0</td>\n      <td>Vietnamese Restaurant</td>\n      <td>Coffee Shop</td>\n      <td>Metro Station</td>\n      <td>Caribbean Restaurant</td>\n      <td>Massage Studio</td>\n      <td>Bar</td>\n      <td>Miscellaneous Shop</td>\n      <td>Chinese Restaurant</td>\n      <td>Chocolate Shop</td>\n      <td>Clothing Store</td>\n    </tr>\n    <tr>\n      <th>10</th>\n      <td>North York</td>\n      <td>0.0</td>\n      <td>Chinese Restaurant</td>\n      <td>Japanese Restaurant</td>\n      <td>Bank</td>\n      <td>Caf\u00e9</td>\n      <td>Vietnamese Restaurant</td>\n      <td>Construction &amp; Landscaping</td>\n      <td>Chocolate Shop</td>\n      <td>Clothing Store</td>\n      <td>Coffee Shop</td>\n      <td>Comfort Food Restaurant</td>\n    </tr>\n    <tr>\n      <th>11</th>\n      <td>North York</td>\n      <td>0.0</td>\n      <td>Business Service</td>\n      <td>Grocery Store</td>\n      <td>Park</td>\n      <td>Baseball Field</td>\n      <td>Electronics Store</td>\n      <td>Discount Store</td>\n      <td>Gym / Fitness Center</td>\n      <td>Home Service</td>\n      <td>Hotel</td>\n      <td>Food Truck</td>\n    </tr>\n    <tr>\n      <th>13</th>\n      <td>North York</td>\n      <td>0.0</td>\n      <td>Business Service</td>\n      <td>Grocery Store</td>\n      <td>Park</td>\n      <td>Baseball Field</td>\n      <td>Electronics Store</td>\n      <td>Discount Store</td>\n      <td>Gym / Fitness Center</td>\n      <td>Home Service</td>\n      <td>Hotel</td>\n      <td>Food Truck</td>\n    </tr>\n    <tr>\n      <th>14</th>\n      <td>North York</td>\n      <td>0.0</td>\n      <td>Trail</td>\n      <td>Bakery</td>\n      <td>Park</td>\n      <td>Construction &amp; Landscaping</td>\n      <td>Basketball Court</td>\n      <td>Electronics Store</td>\n      <td>Event Space</td>\n      <td>Dog Run</td>\n      <td>Discount Store</td>\n      <td>Deli / Bodega</td>\n    </tr>\n    <tr>\n      <th>17</th>\n      <td>North York</td>\n      <td>0.0</td>\n      <td>Business Service</td>\n      <td>Grocery Store</td>\n      <td>Park</td>\n      <td>Baseball Field</td>\n      <td>Electronics Store</td>\n      <td>Discount Store</td>\n      <td>Gym / Fitness Center</td>\n      <td>Home Service</td>\n      <td>Hotel</td>\n      <td>Food Truck</td>\n    </tr>\n    <tr>\n      <th>18</th>\n      <td>North York</td>\n      <td>0.0</td>\n      <td>Restaurant</td>\n      <td>Comfort Food Restaurant</td>\n      <td>Juice Bar</td>\n      <td>Italian Restaurant</td>\n      <td>Indian Restaurant</td>\n      <td>Pub</td>\n      <td>Coffee Shop</td>\n      <td>Caf\u00e9</td>\n      <td>Sushi Restaurant</td>\n      <td>Thai Restaurant</td>\n    </tr>\n    <tr>\n      <th>20</th>\n      <td>North York</td>\n      <td>0.0</td>\n      <td>Caf\u00e9</td>\n      <td>Ramen Restaurant</td>\n      <td>Movie Theater</td>\n      <td>Japanese Restaurant</td>\n      <td>Indonesian Restaurant</td>\n      <td>Ice Cream Shop</td>\n      <td>Coffee Shop</td>\n      <td>Steakhouse</td>\n      <td>Grocery Store</td>\n      <td>Convenience Store</td>\n    </tr>\n    <tr>\n      <th>21</th>\n      <td>North York</td>\n      <td>0.0</td>\n      <td>Business Service</td>\n      <td>Grocery Store</td>\n      <td>Park</td>\n      <td>Baseball Field</td>\n      <td>Electronics Store</td>\n      <td>Discount Store</td>\n      <td>Gym / Fitness Center</td>\n      <td>Home Service</td>\n      <td>Hotel</td>\n      <td>Food Truck</td>\n    </tr>\n    <tr>\n      <th>23</th>\n      <td>North York</td>\n      <td>0.0</td>\n      <td>Coffee Shop</td>\n      <td>Grocery Store</td>\n      <td>Pharmacy</td>\n      <td>Discount Store</td>\n      <td>Bank</td>\n      <td>Pizza Place</td>\n      <td>Butcher</td>\n      <td>Vietnamese Restaurant</td>\n      <td>Caribbean Restaurant</td>\n      <td>Chinese Restaurant</td>\n    </tr>\n  </tbody>\n</table>\n</div>",
                        "text/plain": "       Borough  Cluster Labels  1st Most Common Venue  \\\n1   North York             0.0            Pizza Place   \n2   North York             0.0         Clothing Store   \n3   North York             0.0    Japanese Restaurant   \n4   North York             0.0       Asian Restaurant   \n5   North York             0.0    Japanese Restaurant   \n6   North York             0.0            Golf Course   \n7   North York             0.0            Coffee Shop   \n8   North York             0.0       Toy / Game Store   \n9   North York             0.0  Vietnamese Restaurant   \n10  North York             0.0     Chinese Restaurant   \n11  North York             0.0       Business Service   \n13  North York             0.0       Business Service   \n14  North York             0.0                  Trail   \n17  North York             0.0       Business Service   \n18  North York             0.0             Restaurant   \n20  North York             0.0                   Caf\u00e9   \n21  North York             0.0       Business Service   \n23  North York             0.0            Coffee Shop   \n\n        2nd Most Common Venue   3rd Most Common Venue  \\\n1                Hockey Arena   Portuguese Restaurant   \n2       Vietnamese Restaurant  Furniture / Home Store   \n3                         Gym          Baseball Field   \n4                 Pizza Place     Japanese Restaurant   \n5                         Gym          Baseball Field   \n6    Mediterranean Restaurant                 Dog Run   \n7   Middle Eastern Restaurant        Sushi Restaurant   \n8           Electronics Store                Tea Room   \n9                 Coffee Shop           Metro Station   \n10        Japanese Restaurant                    Bank   \n11              Grocery Store                    Park   \n13              Grocery Store                    Park   \n14                     Bakery                    Park   \n17              Grocery Store                    Park   \n18    Comfort Food Restaurant               Juice Bar   \n20           Ramen Restaurant           Movie Theater   \n21              Grocery Store                    Park   \n23              Grocery Store                Pharmacy   \n\n         4th Most Common Venue    5th Most Common Venue  \\\n1                  Coffee Shop    Vietnamese Restaurant   \n2                     Boutique              Coffee Shop   \n3                   Restaurant       Italian Restaurant   \n4                          Pub    Vietnamese Restaurant   \n5                   Restaurant       Italian Restaurant   \n6                         Pool  Comfort Food Restaurant   \n7                Deli / Bodega              Bridal Shop   \n8          American Restaurant             Burger Joint   \n9         Caribbean Restaurant           Massage Studio   \n10                        Caf\u00e9    Vietnamese Restaurant   \n11              Baseball Field        Electronics Store   \n13              Baseball Field        Electronics Store   \n14  Construction & Landscaping         Basketball Court   \n17              Baseball Field        Electronics Store   \n18          Italian Restaurant        Indian Restaurant   \n20         Japanese Restaurant    Indonesian Restaurant   \n21              Baseball Field        Electronics Store   \n23              Discount Store                     Bank   \n\n         6th Most Common Venue 7th Most Common Venue  8th Most Common Venue  \\\n1      Comfort Food Restaurant  Caribbean Restaurant     Chinese Restaurant   \n2                  Event Space     Accessories Store    Sporting Goods Shop   \n3               Clothing Store           Coffee Shop              Bike Shop   \n4                  Coffee Shop  Caribbean Restaurant     Chinese Restaurant   \n5               Clothing Store           Coffee Shop              Bike Shop   \n6         Caribbean Restaurant    Chinese Restaurant         Chocolate Shop   \n7                         Bank        Sandwich Place             Restaurant   \n8                Shopping Mall                Bakery          Movie Theater   \n9                          Bar    Miscellaneous Shop     Chinese Restaurant   \n10  Construction & Landscaping        Chocolate Shop         Clothing Store   \n11              Discount Store  Gym / Fitness Center           Home Service   \n13              Discount Store  Gym / Fitness Center           Home Service   \n14           Electronics Store           Event Space                Dog Run   \n17              Discount Store  Gym / Fitness Center           Home Service   \n18                         Pub           Coffee Shop                   Caf\u00e9   \n20              Ice Cream Shop           Coffee Shop             Steakhouse   \n21              Discount Store  Gym / Fitness Center           Home Service   \n23                 Pizza Place               Butcher  Vietnamese Restaurant   \n\n   9th Most Common Venue   10th Most Common Venue  \n1         Chocolate Shop           Clothing Store  \n2       Sushi Restaurant                  Dog Run  \n3             Beer Store     Caribbean Restaurant  \n4         Chocolate Shop           Clothing Store  \n5             Beer Store     Caribbean Restaurant  \n6         Clothing Store              Coffee Shop  \n7         Ice Cream Shop    Vietnamese Restaurant  \n8         Chocolate Shop                 Pharmacy  \n9         Chocolate Shop           Clothing Store  \n10           Coffee Shop  Comfort Food Restaurant  \n11                 Hotel               Food Truck  \n13                 Hotel               Food Truck  \n14        Discount Store            Deli / Bodega  \n17                 Hotel               Food Truck  \n18      Sushi Restaurant          Thai Restaurant  \n20         Grocery Store        Convenience Store  \n21                 Hotel               Food Truck  \n23  Caribbean Restaurant       Chinese Restaurant  "
                    },
                    "execution_count": 57,
                    "metadata": {},
                    "output_type": "execute_result"
                }
            ],
            "source": "NY_merged.loc[NY_merged['Cluster Labels'] == 0, NY_merged.columns[[1] + list(range(5, NY_merged.shape[1]))]]"
        },
        {
            "cell_type": "code",
            "execution_count": 58,
            "metadata": {},
            "outputs": [
                {
                    "data": {
                        "text/html": "<div>\n<style scoped>\n    .dataframe tbody tr th:only-of-type {\n        vertical-align: middle;\n    }\n\n    .dataframe tbody tr th {\n        vertical-align: top;\n    }\n\n    .dataframe thead th {\n        text-align: right;\n    }\n</style>\n<table border=\"1\" class=\"dataframe\">\n  <thead>\n    <tr style=\"text-align: right;\">\n      <th></th>\n      <th>Borough</th>\n      <th>Cluster Labels</th>\n      <th>1st Most Common Venue</th>\n      <th>2nd Most Common Venue</th>\n      <th>3rd Most Common Venue</th>\n      <th>4th Most Common Venue</th>\n      <th>5th Most Common Venue</th>\n      <th>6th Most Common Venue</th>\n      <th>7th Most Common Venue</th>\n      <th>8th Most Common Venue</th>\n      <th>9th Most Common Venue</th>\n      <th>10th Most Common Venue</th>\n    </tr>\n  </thead>\n  <tbody>\n    <tr>\n      <th>0</th>\n      <td>North York</td>\n      <td>1.0</td>\n      <td>Bus Stop</td>\n      <td>Food &amp; Drink Shop</td>\n      <td>Park</td>\n      <td>Vietnamese Restaurant</td>\n      <td>Comfort Food Restaurant</td>\n      <td>Caribbean Restaurant</td>\n      <td>Chinese Restaurant</td>\n      <td>Chocolate Shop</td>\n      <td>Clothing Store</td>\n      <td>Coffee Shop</td>\n    </tr>\n  </tbody>\n</table>\n</div>",
                        "text/plain": "      Borough  Cluster Labels 1st Most Common Venue 2nd Most Common Venue  \\\n0  North York             1.0              Bus Stop     Food & Drink Shop   \n\n  3rd Most Common Venue  4th Most Common Venue    5th Most Common Venue  \\\n0                  Park  Vietnamese Restaurant  Comfort Food Restaurant   \n\n  6th Most Common Venue 7th Most Common Venue 8th Most Common Venue  \\\n0  Caribbean Restaurant    Chinese Restaurant        Chocolate Shop   \n\n  9th Most Common Venue 10th Most Common Venue  \n0        Clothing Store            Coffee Shop  "
                    },
                    "execution_count": 58,
                    "metadata": {},
                    "output_type": "execute_result"
                }
            ],
            "source": "NY_merged.loc[NY_merged['Cluster Labels'] == 1, NY_merged.columns[[1] + list(range(5, NY_merged.shape[1]))]]"
        },
        {
            "cell_type": "code",
            "execution_count": 59,
            "metadata": {},
            "outputs": [
                {
                    "data": {
                        "text/html": "<div>\n<style scoped>\n    .dataframe tbody tr th:only-of-type {\n        vertical-align: middle;\n    }\n\n    .dataframe tbody tr th {\n        vertical-align: top;\n    }\n\n    .dataframe thead th {\n        text-align: right;\n    }\n</style>\n<table border=\"1\" class=\"dataframe\">\n  <thead>\n    <tr style=\"text-align: right;\">\n      <th></th>\n      <th>Borough</th>\n      <th>Cluster Labels</th>\n      <th>1st Most Common Venue</th>\n      <th>2nd Most Common Venue</th>\n      <th>3rd Most Common Venue</th>\n      <th>4th Most Common Venue</th>\n      <th>5th Most Common Venue</th>\n      <th>6th Most Common Venue</th>\n      <th>7th Most Common Venue</th>\n      <th>8th Most Common Venue</th>\n      <th>9th Most Common Venue</th>\n      <th>10th Most Common Venue</th>\n    </tr>\n  </thead>\n  <tbody>\n    <tr>\n      <th>19</th>\n      <td>North York</td>\n      <td>2.0</td>\n      <td>Furniture / Home Store</td>\n      <td>Baseball Field</td>\n      <td>Food Truck</td>\n      <td>Food &amp; Drink Shop</td>\n      <td>Event Space</td>\n      <td>Electronics Store</td>\n      <td>Dog Run</td>\n      <td>Discount Store</td>\n      <td>Deli / Bodega</td>\n      <td>Caf\u00e9</td>\n    </tr>\n  </tbody>\n</table>\n</div>",
                        "text/plain": "       Borough  Cluster Labels   1st Most Common Venue 2nd Most Common Venue  \\\n19  North York             2.0  Furniture / Home Store        Baseball Field   \n\n   3rd Most Common Venue 4th Most Common Venue 5th Most Common Venue  \\\n19            Food Truck     Food & Drink Shop           Event Space   \n\n   6th Most Common Venue 7th Most Common Venue 8th Most Common Venue  \\\n19     Electronics Store               Dog Run        Discount Store   \n\n   9th Most Common Venue 10th Most Common Venue  \n19         Deli / Bodega                   Caf\u00e9  "
                    },
                    "execution_count": 59,
                    "metadata": {},
                    "output_type": "execute_result"
                }
            ],
            "source": "NY_merged.loc[NY_merged['Cluster Labels'] == 2, NY_merged.columns[[1] + list(range(5, NY_merged.shape[1]))]]"
        },
        {
            "cell_type": "code",
            "execution_count": null,
            "metadata": {},
            "outputs": [],
            "source": "NY_merged.loc[NY_merged['Cluster Labels'] == 3, NY_merged.columns[[1] + list(range(5, NY_merged.shape[1]))]]"
        }
    ],
    "metadata": {
        "kernelspec": {
            "display_name": "Python 3.6",
            "language": "python",
            "name": "python3"
        },
        "language_info": {
            "codemirror_mode": {
                "name": "ipython",
                "version": 3
            },
            "file_extension": ".py",
            "mimetype": "text/x-python",
            "name": "python",
            "nbconvert_exporter": "python",
            "pygments_lexer": "ipython3",
            "version": "3.6.9"
        }
    },
    "nbformat": 4,
    "nbformat_minor": 1
}